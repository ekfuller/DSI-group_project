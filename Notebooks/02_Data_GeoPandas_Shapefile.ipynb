{
 "cells": [
  {
   "cell_type": "markdown",
   "id": "5242dcb9-71e7-447c-8b2d-d5b82c28e3d3",
   "metadata": {},
   "source": [
    "# 2. Data GeoPandas Shapefile\n",
    "\n",
    "The purpose of this notebook is to merge the cleaned datasets into a GeoPandas shapefile."
   ]
  },
  {
   "cell_type": "code",
   "execution_count": 3,
   "id": "3832ac07-2a51-48ed-bbbb-073e6287d852",
   "metadata": {},
   "outputs": [],
   "source": [
    "import shapefile\n",
    "import geopandas as gpd\n",
    "import pandas as pd\n",
    "import matplotlib.pyplot as plt\n",
    "import os\n",
    "import seaborn as sns\n",
    "import random"
   ]
  },
  {
   "cell_type": "code",
   "execution_count": 4,
   "id": "8d49b7ed-ca69-4225-b72c-8113d23b2235",
   "metadata": {},
   "outputs": [],
   "source": [
    "random.seed(6)"
   ]
  },
  {
   "cell_type": "markdown",
   "id": "ce4f2c80-c858-44f5-a087-e091fc185a81",
   "metadata": {},
   "source": [
    "### Read in and clean Texas Shapefile to match ACS SNAP info"
   ]
  },
  {
   "cell_type": "code",
   "execution_count": 5,
   "id": "ac20f524-1a87-4e95-b935-10c246fb10c4",
   "metadata": {},
   "outputs": [],
   "source": [
    "sf = shapefile.Reader('../datasets/texasshp/tl_2017_48_tract.shp')"
   ]
  },
  {
   "cell_type": "code",
   "execution_count": 6,
   "id": "c2d0302e-d98d-495f-9715-2e7fcb521899",
   "metadata": {},
   "outputs": [],
   "source": [
    "df_tx = gpd.read_file('../datasets/texasshp/tl_2017_48_tract.shp')"
   ]
  },
  {
   "cell_type": "code",
   "execution_count": 7,
   "id": "58f80233-0f33-45d9-b8e4-f10ce17f4669",
   "metadata": {},
   "outputs": [],
   "source": [
    "df_snap = pd.read_csv('../cleaned_datasets/SNAPinfoTX.csv')"
   ]
  },
  {
   "cell_type": "code",
   "execution_count": 8,
   "id": "477217e7-c522-489e-a22a-e1f28c76f1d5",
   "metadata": {},
   "outputs": [],
   "source": [
    "df_pov = pd.read_csv('../cleaned_datasets/PovertyinfoTX.csv')"
   ]
  },
  {
   "cell_type": "code",
   "execution_count": 9,
   "id": "7302ab53-e6d8-494e-bcaa-b6a23fd1a369",
   "metadata": {},
   "outputs": [
    {
     "data": {
      "text/plain": [
       "((5265, 6), (5265, 11))"
      ]
     },
     "execution_count": 9,
     "metadata": {},
     "output_type": "execute_result"
    }
   ],
   "source": [
    "df_snap.shape, df_pov.shape"
   ]
  },
  {
   "cell_type": "code",
   "execution_count": 10,
   "id": "67c073f9-31f9-46ff-ae55-7ed852d9589d",
   "metadata": {},
   "outputs": [
    {
     "data": {
      "text/html": [
       "<div>\n",
       "<style scoped>\n",
       "    .dataframe tbody tr th:only-of-type {\n",
       "        vertical-align: middle;\n",
       "    }\n",
       "\n",
       "    .dataframe tbody tr th {\n",
       "        vertical-align: top;\n",
       "    }\n",
       "\n",
       "    .dataframe thead th {\n",
       "        text-align: right;\n",
       "    }\n",
       "</style>\n",
       "<table border=\"1\" class=\"dataframe\">\n",
       "  <thead>\n",
       "    <tr style=\"text-align: right;\">\n",
       "      <th></th>\n",
       "      <th>id</th>\n",
       "      <th>geoid</th>\n",
       "      <th>households</th>\n",
       "      <th>below_poverty</th>\n",
       "      <th>hh_snap</th>\n",
       "      <th>hh_nowork</th>\n",
       "    </tr>\n",
       "  </thead>\n",
       "  <tbody>\n",
       "    <tr>\n",
       "      <th>0</th>\n",
       "      <td>48001950100</td>\n",
       "      <td>Census Tract 9501, Anderson County, Texas</td>\n",
       "      <td>1790</td>\n",
       "      <td>295</td>\n",
       "      <td>163</td>\n",
       "      <td>23.9</td>\n",
       "    </tr>\n",
       "    <tr>\n",
       "      <th>1</th>\n",
       "      <td>48001950401</td>\n",
       "      <td>Census Tract 9504.01, Anderson County, Texas</td>\n",
       "      <td>95</td>\n",
       "      <td>0</td>\n",
       "      <td>0</td>\n",
       "      <td>0.0</td>\n",
       "    </tr>\n",
       "  </tbody>\n",
       "</table>\n",
       "</div>"
      ],
      "text/plain": [
       "            id                                         geoid  households  \\\n",
       "0  48001950100     Census Tract 9501, Anderson County, Texas        1790   \n",
       "1  48001950401  Census Tract 9504.01, Anderson County, Texas          95   \n",
       "\n",
       "   below_poverty  hh_snap hh_nowork  \n",
       "0            295      163      23.9  \n",
       "1              0        0       0.0  "
      ]
     },
     "execution_count": 10,
     "metadata": {},
     "output_type": "execute_result"
    }
   ],
   "source": [
    "df_snap.head(2)"
   ]
  },
  {
   "cell_type": "markdown",
   "id": "9ad06278-5e38-4fc4-97e4-4c17385fbc2e",
   "metadata": {},
   "source": [
    "Same number of rows! "
   ]
  },
  {
   "cell_type": "code",
   "execution_count": 11,
   "id": "8a9ed5db-15bf-4808-8802-15108c2e71c3",
   "metadata": {},
   "outputs": [
    {
     "name": "stdout",
     "output_type": "stream",
     "text": [
      "<class 'geopandas.geodataframe.GeoDataFrame'>\n",
      "RangeIndex: 5265 entries, 0 to 5264\n",
      "Data columns (total 13 columns):\n",
      " #   Column    Non-Null Count  Dtype   \n",
      "---  ------    --------------  -----   \n",
      " 0   STATEFP   5265 non-null   object  \n",
      " 1   COUNTYFP  5265 non-null   object  \n",
      " 2   TRACTCE   5265 non-null   object  \n",
      " 3   GEOID     5265 non-null   object  \n",
      " 4   NAME      5265 non-null   object  \n",
      " 5   NAMELSAD  5265 non-null   object  \n",
      " 6   MTFCC     5265 non-null   object  \n",
      " 7   FUNCSTAT  5265 non-null   object  \n",
      " 8   ALAND     5265 non-null   int64   \n",
      " 9   AWATER    5265 non-null   int64   \n",
      " 10  INTPTLAT  5265 non-null   object  \n",
      " 11  INTPTLON  5265 non-null   object  \n",
      " 12  geometry  5265 non-null   geometry\n",
      "dtypes: geometry(1), int64(2), object(10)\n",
      "memory usage: 534.9+ KB\n"
     ]
    }
   ],
   "source": [
    "df_tx.info()"
   ]
  },
  {
   "cell_type": "code",
   "execution_count": 12,
   "id": "4a862eb0-6973-4266-b9eb-63b79f6115f4",
   "metadata": {},
   "outputs": [
    {
     "name": "stdout",
     "output_type": "stream",
     "text": [
      "<class 'pandas.core.frame.DataFrame'>\n",
      "RangeIndex: 5265 entries, 0 to 5264\n",
      "Data columns (total 6 columns):\n",
      " #   Column         Non-Null Count  Dtype \n",
      "---  ------         --------------  ----- \n",
      " 0   id             5265 non-null   int64 \n",
      " 1   geoid          5265 non-null   object\n",
      " 2   households     5265 non-null   int64 \n",
      " 3   below_poverty  5265 non-null   int64 \n",
      " 4   hh_snap        5265 non-null   int64 \n",
      " 5   hh_nowork      5265 non-null   object\n",
      "dtypes: int64(4), object(2)\n",
      "memory usage: 246.9+ KB\n",
      "<class 'pandas.core.frame.DataFrame'>\n",
      "RangeIndex: 5265 entries, 0 to 5264\n",
      "Data columns (total 11 columns):\n",
      " #   Column       Non-Null Count  Dtype \n",
      "---  ------       --------------  ----- \n",
      " 0   id           5265 non-null   int64 \n",
      " 1   geoid        5265 non-null   object\n",
      " 2   population   5265 non-null   int64 \n",
      " 3   below50pov   5265 non-null   int64 \n",
      " 4   below125pov  5265 non-null   int64 \n",
      " 5   below150pov  5265 non-null   int64 \n",
      " 6   below185pov  5265 non-null   int64 \n",
      " 7   below200pov  5265 non-null   int64 \n",
      " 8   below300pov  5265 non-null   int64 \n",
      " 9   below400pov  5265 non-null   int64 \n",
      " 10  below500pov  5265 non-null   int64 \n",
      "dtypes: int64(10), object(1)\n",
      "memory usage: 452.6+ KB\n"
     ]
    },
    {
     "data": {
      "text/plain": [
       "(None, None)"
      ]
     },
     "execution_count": 12,
     "metadata": {},
     "output_type": "execute_result"
    }
   ],
   "source": [
    "df_snap.info(), df_pov.info()"
   ]
  },
  {
   "cell_type": "markdown",
   "id": "62653826-c0b9-4c3f-8662-009a3c998c53",
   "metadata": {},
   "source": [
    "So in the GDB, the geoid is an object, while in the other 2, it's an int (id refers to what GEOID is on the gdb)"
   ]
  },
  {
   "cell_type": "code",
   "execution_count": 13,
   "id": "79e6cf6a-b26a-40be-bf20-7b43c9947692",
   "metadata": {},
   "outputs": [],
   "source": [
    "df_tx['GEOID'] = df_tx['GEOID'].astype('int64')"
   ]
  },
  {
   "cell_type": "code",
   "execution_count": 14,
   "id": "0bbf9a47-5cf3-43db-beb1-f60c98106f04",
   "metadata": {},
   "outputs": [],
   "source": [
    "df_tx.columns = [x.lower() for x in df_tx.columns]"
   ]
  },
  {
   "cell_type": "markdown",
   "id": "6e136221-dd9e-400c-9e48-f6a36c4a523f",
   "metadata": {},
   "source": [
    "#### Merge SNAP data with shapefile"
   ]
  },
  {
   "cell_type": "code",
   "execution_count": 15,
   "id": "3a84ad5f-8a9f-406e-9da7-9331ecbfc182",
   "metadata": {},
   "outputs": [],
   "source": [
    "df_tx = df_tx.merge(df_snap, left_on='geoid',right_on='id')"
   ]
  },
  {
   "cell_type": "code",
   "execution_count": 16,
   "id": "2155cdfc-068c-4267-b56b-2f290983f61d",
   "metadata": {},
   "outputs": [
    {
     "data": {
      "text/html": [
       "<div>\n",
       "<style scoped>\n",
       "    .dataframe tbody tr th:only-of-type {\n",
       "        vertical-align: middle;\n",
       "    }\n",
       "\n",
       "    .dataframe tbody tr th {\n",
       "        vertical-align: top;\n",
       "    }\n",
       "\n",
       "    .dataframe thead th {\n",
       "        text-align: right;\n",
       "    }\n",
       "</style>\n",
       "<table border=\"1\" class=\"dataframe\">\n",
       "  <thead>\n",
       "    <tr style=\"text-align: right;\">\n",
       "      <th></th>\n",
       "      <th>id</th>\n",
       "      <th>geoid</th>\n",
       "      <th>households</th>\n",
       "      <th>below_poverty</th>\n",
       "      <th>hh_snap</th>\n",
       "      <th>hh_nowork</th>\n",
       "    </tr>\n",
       "  </thead>\n",
       "  <tbody>\n",
       "    <tr>\n",
       "      <th>2963</th>\n",
       "      <td>48201542301</td>\n",
       "      <td>Census Tract 5423.01, Harris County, Texas</td>\n",
       "      <td>4081</td>\n",
       "      <td>152</td>\n",
       "      <td>181</td>\n",
       "      <td>2.5</td>\n",
       "    </tr>\n",
       "  </tbody>\n",
       "</table>\n",
       "</div>"
      ],
      "text/plain": [
       "               id                                       geoid  households  \\\n",
       "2963  48201542301  Census Tract 5423.01, Harris County, Texas        4081   \n",
       "\n",
       "      below_poverty  hh_snap hh_nowork  \n",
       "2963            152      181       2.5  "
      ]
     },
     "execution_count": 16,
     "metadata": {},
     "output_type": "execute_result"
    }
   ],
   "source": [
    "df_snap[df_snap['id']==48201542301] #just checking it joined where it ought to"
   ]
  },
  {
   "cell_type": "code",
   "execution_count": 17,
   "id": "cf12d87f-29af-4e73-98c4-42c4c16435bc",
   "metadata": {},
   "outputs": [],
   "source": [
    "df_tx = df_tx.merge(df_pov,left_on='geoid_x',right_on='id')"
   ]
  },
  {
   "cell_type": "code",
   "execution_count": 18,
   "id": "2c41eabe-d0bb-44cc-aecb-0180220d25b0",
   "metadata": {},
   "outputs": [
    {
     "data": {
      "text/html": [
       "<div>\n",
       "<style scoped>\n",
       "    .dataframe tbody tr th:only-of-type {\n",
       "        vertical-align: middle;\n",
       "    }\n",
       "\n",
       "    .dataframe tbody tr th {\n",
       "        vertical-align: top;\n",
       "    }\n",
       "\n",
       "    .dataframe thead th {\n",
       "        text-align: right;\n",
       "    }\n",
       "</style>\n",
       "<table border=\"1\" class=\"dataframe\">\n",
       "  <thead>\n",
       "    <tr style=\"text-align: right;\">\n",
       "      <th></th>\n",
       "      <th>id</th>\n",
       "      <th>geoid</th>\n",
       "      <th>population</th>\n",
       "      <th>below50pov</th>\n",
       "      <th>below125pov</th>\n",
       "      <th>below150pov</th>\n",
       "      <th>below185pov</th>\n",
       "      <th>below200pov</th>\n",
       "      <th>below300pov</th>\n",
       "      <th>below400pov</th>\n",
       "      <th>below500pov</th>\n",
       "    </tr>\n",
       "  </thead>\n",
       "  <tbody>\n",
       "    <tr>\n",
       "      <th>2963</th>\n",
       "      <td>48201542301</td>\n",
       "      <td>Census Tract 5423.01, Harris County, Texas</td>\n",
       "      <td>14366</td>\n",
       "      <td>265</td>\n",
       "      <td>1299</td>\n",
       "      <td>1952</td>\n",
       "      <td>3181</td>\n",
       "      <td>3696</td>\n",
       "      <td>6695</td>\n",
       "      <td>9614</td>\n",
       "      <td>11731</td>\n",
       "    </tr>\n",
       "  </tbody>\n",
       "</table>\n",
       "</div>"
      ],
      "text/plain": [
       "               id                                       geoid  population  \\\n",
       "2963  48201542301  Census Tract 5423.01, Harris County, Texas       14366   \n",
       "\n",
       "      below50pov  below125pov  below150pov  below185pov  below200pov  \\\n",
       "2963         265         1299         1952         3181         3696   \n",
       "\n",
       "      below300pov  below400pov  below500pov  \n",
       "2963         6695         9614        11731  "
      ]
     },
     "execution_count": 18,
     "metadata": {},
     "output_type": "execute_result"
    }
   ],
   "source": [
    "df_pov[df_pov['id']==48201542301] #''"
   ]
  },
  {
   "cell_type": "code",
   "execution_count": 19,
   "id": "eb4577ac-8efb-4155-aa78-3cdbe9fae739",
   "metadata": {},
   "outputs": [],
   "source": [
    "df_tx.drop(columns=['id_x','id_y','geoid_y'],inplace=True)"
   ]
  },
  {
   "cell_type": "code",
   "execution_count": 20,
   "id": "8266da3c-707f-412c-aa3f-90e08e1f79fd",
   "metadata": {},
   "outputs": [
    {
     "data": {
      "text/plain": [
       "0       Census Tract 5423.01, Harris County, Texas\n",
       "1       Census Tract 5526.01, Harris County, Texas\n",
       "2       Census Tract 6738, Fort Bend County, Texas\n",
       "3       Census Tract 6740, Fort Bend County, Texas\n",
       "4       Census Tract 6741, Fort Bend County, Texas\n",
       "                           ...                    \n",
       "5260    Census Tract 119.03, Cameron County, Texas\n",
       "5261    Census Tract 140.02, Cameron County, Texas\n",
       "5262       Census Tract 114, Cameron County, Texas\n",
       "5263    Census Tract 124.01, Cameron County, Texas\n",
       "5264       Census Tract 116, Cameron County, Texas\n",
       "Name: geoid, Length: 5265, dtype: object"
      ]
     },
     "execution_count": 20,
     "metadata": {},
     "output_type": "execute_result"
    }
   ],
   "source": [
    "df_tx['geoid']"
   ]
  },
  {
   "cell_type": "code",
   "execution_count": 21,
   "id": "fdd58934-c182-4c8b-ad7e-783f7024211d",
   "metadata": {},
   "outputs": [
    {
     "data": {
      "text/plain": [
       "0       48201542301\n",
       "1       48201552601\n",
       "2       48157673800\n",
       "3       48157674000\n",
       "4       48157674100\n",
       "           ...     \n",
       "5260    48061011903\n",
       "5261    48061014002\n",
       "5262    48061011400\n",
       "5263    48061012401\n",
       "5264    48061011600\n",
       "Name: geoid_x, Length: 5265, dtype: int64"
      ]
     },
     "execution_count": 21,
     "metadata": {},
     "output_type": "execute_result"
    }
   ],
   "source": [
    "df_tx['geoid_x']"
   ]
  },
  {
   "cell_type": "code",
   "execution_count": 22,
   "id": "2c536f02-730a-4ccd-baf7-7e900112a336",
   "metadata": {},
   "outputs": [],
   "source": [
    "df_tx.rename(columns={'geoid':'tract_name','geoid_x':'geoid'},inplace=True)"
   ]
  },
  {
   "cell_type": "code",
   "execution_count": 23,
   "id": "548b2d5f-1336-4dee-a747-5be23991fe58",
   "metadata": {},
   "outputs": [],
   "source": [
    "df_tx = df_tx[['statefp', 'countyfp', 'tractce', 'geoid', 'name', 'namelsad', 'mtfcc',\n",
    "       'funcstat', 'aland', 'awater', 'intptlat', 'intptlon', 'households',\n",
    "       'below_poverty', 'hh_snap', 'hh_nowork', 'tract_name', 'population',\n",
    "       'below50pov', 'below125pov', 'below150pov', 'below185pov', 'below200pov',\n",
    "       'below300pov', 'below400pov', 'below500pov', 'geometry']]"
   ]
  },
  {
   "cell_type": "markdown",
   "id": "e6d70727-cb34-4ec8-ae2f-3716ccc0cef0",
   "metadata": {},
   "source": [
    "## Read in other datasets"
   ]
  },
  {
   "cell_type": "code",
   "execution_count": 24,
   "id": "4296ebf2-d763-4c29-a254-f3590e752f9c",
   "metadata": {},
   "outputs": [],
   "source": [
    "cancer_df = pd.read_csv('../cleaned_datasets/cancer_rates.csv')\n",
    "\n",
    "refinery_df = pd.read_csv('../cleaned_datasets/combined_texas_refinery_risks_emissions.csv')"
   ]
  },
  {
   "cell_type": "markdown",
   "id": "8a518886-e0d8-4399-bf8e-f6b4cbc88469",
   "metadata": {
    "tags": []
   },
   "source": [
    "## Clean up column names\n",
    "\n",
    "- limited to 10 characters\n",
    "- drop unnecessary columns from individual files"
   ]
  },
  {
   "cell_type": "code",
   "execution_count": 25,
   "id": "99b6039a-582c-4293-bb26-c666d235cd04",
   "metadata": {},
   "outputs": [
    {
     "data": {
      "text/plain": [
       "Index(['Unnamed: 0', 'Year', 'StateAbbr', 'CountyFIPS', 'LocationName',\n",
       "       'DataSource', 'Measure', 'Data_Value_Unit', 'Data_Value_Type',\n",
       "       'Data_Value', 'Low_Confidence_Limit', 'High_Confidence_Limit',\n",
       "       'TotalPopulation', 'Geolocation', 'LocationID'],\n",
       "      dtype='object')"
      ]
     },
     "execution_count": 25,
     "metadata": {},
     "output_type": "execute_result"
    }
   ],
   "source": [
    "cancer_df.columns"
   ]
  },
  {
   "cell_type": "code",
   "execution_count": 26,
   "id": "6ee162e1-61b1-4cf4-a155-cf9f03b9ee05",
   "metadata": {},
   "outputs": [
    {
     "data": {
      "text/html": [
       "<div>\n",
       "<style scoped>\n",
       "    .dataframe tbody tr th:only-of-type {\n",
       "        vertical-align: middle;\n",
       "    }\n",
       "\n",
       "    .dataframe tbody tr th {\n",
       "        vertical-align: top;\n",
       "    }\n",
       "\n",
       "    .dataframe thead th {\n",
       "        text-align: right;\n",
       "    }\n",
       "</style>\n",
       "<table border=\"1\" class=\"dataframe\">\n",
       "  <thead>\n",
       "    <tr style=\"text-align: right;\">\n",
       "      <th></th>\n",
       "      <th>county_num</th>\n",
       "      <th>tract_num</th>\n",
       "      <th>cancer_%</th>\n",
       "      <th>cancer_%_l</th>\n",
       "      <th>cancer_%_h</th>\n",
       "      <th>total_pop</th>\n",
       "      <th>geo_loc</th>\n",
       "    </tr>\n",
       "  </thead>\n",
       "  <tbody>\n",
       "    <tr>\n",
       "      <th>0</th>\n",
       "      <td>48005</td>\n",
       "      <td>48005000102</td>\n",
       "      <td>6.5</td>\n",
       "      <td>6.3</td>\n",
       "      <td>6.7</td>\n",
       "      <td>4447</td>\n",
       "      <td>POINT (-94.87095395 31.32711676)</td>\n",
       "    </tr>\n",
       "  </tbody>\n",
       "</table>\n",
       "</div>"
      ],
      "text/plain": [
       "   county_num    tract_num  cancer_%  cancer_%_l  cancer_%_h  total_pop  \\\n",
       "0       48005  48005000102       6.5         6.3         6.7       4447   \n",
       "\n",
       "                            geo_loc  \n",
       "0  POINT (-94.87095395 31.32711676)  "
      ]
     },
     "execution_count": 26,
     "metadata": {},
     "output_type": "execute_result"
    }
   ],
   "source": [
    "cancer_df.columns = ['drop_1','drop_2','drop_3','county_num','tract_num','drop_4','drop_5','drop_6','drop_7','cancer_%','cancer_%_l','cancer_%_h','total_pop','geo_loc','drop_8']\n",
    "\n",
    "cancer_df.drop(columns=['drop_1', 'drop_2', 'drop_3', 'drop_4', 'drop_5', 'drop_6', 'drop_7', 'drop_8'], inplace=True)\n",
    "\n",
    "cancer_df.head(1)"
   ]
  },
  {
   "cell_type": "code",
   "execution_count": 27,
   "id": "d03474f4-23e0-4606-ac47-f6e2f41d2549",
   "metadata": {},
   "outputs": [
    {
     "data": {
      "text/plain": [
       "Index(['statefp', 'countyfp', 'tractce', 'geoid', 'name', 'namelsad', 'mtfcc',\n",
       "       'funcstat', 'aland', 'awater', 'intptlat', 'intptlon', 'households',\n",
       "       'below_poverty', 'hh_snap', 'hh_nowork', 'tract_name', 'population',\n",
       "       'below50pov', 'below125pov', 'below150pov', 'below185pov',\n",
       "       'below200pov', 'below300pov', 'below400pov', 'below500pov', 'geometry'],\n",
       "      dtype='object')"
      ]
     },
     "execution_count": 27,
     "metadata": {},
     "output_type": "execute_result"
    }
   ],
   "source": [
    "df_tx.columns"
   ]
  },
  {
   "cell_type": "code",
   "execution_count": 28,
   "id": "bd122192-8e3b-4551-ab30-bb4280e47772",
   "metadata": {},
   "outputs": [
    {
     "data": {
      "text/html": [
       "<div>\n",
       "<style scoped>\n",
       "    .dataframe tbody tr th:only-of-type {\n",
       "        vertical-align: middle;\n",
       "    }\n",
       "\n",
       "    .dataframe tbody tr th {\n",
       "        vertical-align: top;\n",
       "    }\n",
       "\n",
       "    .dataframe thead th {\n",
       "        text-align: right;\n",
       "    }\n",
       "</style>\n",
       "<table border=\"1\" class=\"dataframe\">\n",
       "  <thead>\n",
       "    <tr style=\"text-align: right;\">\n",
       "      <th></th>\n",
       "      <th>tract_num</th>\n",
       "      <th>mtfcc</th>\n",
       "      <th>aland</th>\n",
       "      <th>awater</th>\n",
       "      <th>intptlat</th>\n",
       "      <th>intptlon</th>\n",
       "      <th>households</th>\n",
       "      <th>below_pove</th>\n",
       "      <th>hh_snap</th>\n",
       "      <th>hh_nowork</th>\n",
       "      <th>tract_name</th>\n",
       "      <th>below50pov</th>\n",
       "      <th>below125po</th>\n",
       "      <th>below150po</th>\n",
       "      <th>below185po</th>\n",
       "      <th>below200po</th>\n",
       "      <th>below300po</th>\n",
       "      <th>below400po</th>\n",
       "      <th>below500po</th>\n",
       "      <th>geometry</th>\n",
       "    </tr>\n",
       "  </thead>\n",
       "  <tbody>\n",
       "    <tr>\n",
       "      <th>0</th>\n",
       "      <td>48201542301</td>\n",
       "      <td>G5020</td>\n",
       "      <td>5956733</td>\n",
       "      <td>15456</td>\n",
       "      <td>+29.8204990</td>\n",
       "      <td>-095.7316493</td>\n",
       "      <td>4081</td>\n",
       "      <td>152</td>\n",
       "      <td>181</td>\n",
       "      <td>2.5</td>\n",
       "      <td>Census Tract 5423.01, Harris County, Texas</td>\n",
       "      <td>265</td>\n",
       "      <td>1299</td>\n",
       "      <td>1952</td>\n",
       "      <td>3181</td>\n",
       "      <td>3696</td>\n",
       "      <td>6695</td>\n",
       "      <td>9614</td>\n",
       "      <td>11731</td>\n",
       "      <td>POLYGON ((-95.75224 29.83169, -95.75104 29.831...</td>\n",
       "    </tr>\n",
       "  </tbody>\n",
       "</table>\n",
       "</div>"
      ],
      "text/plain": [
       "     tract_num  mtfcc    aland  awater     intptlat      intptlon  households  \\\n",
       "0  48201542301  G5020  5956733   15456  +29.8204990  -095.7316493        4081   \n",
       "\n",
       "   below_pove  hh_snap hh_nowork                                  tract_name  \\\n",
       "0         152      181       2.5  Census Tract 5423.01, Harris County, Texas   \n",
       "\n",
       "   below50pov  below125po  below150po  below185po  below200po  below300po  \\\n",
       "0         265        1299        1952        3181        3696        6695   \n",
       "\n",
       "   below400po  below500po                                           geometry  \n",
       "0        9614       11731  POLYGON ((-95.75224 29.83169, -95.75104 29.831...  "
      ]
     },
     "execution_count": 28,
     "metadata": {},
     "output_type": "execute_result"
    }
   ],
   "source": [
    "df_tx.columns = ['drop_1', 'drop_2', 'drop_3', 'tract_num', 'drop_4', 'drop_5', 'mtfcc',\n",
    "       'drop_6', 'aland', 'awater', 'intptlat', 'intptlon', 'households',\n",
    "       'below_pove', 'hh_snap', 'hh_nowork', 'tract_name', 'drop_7',\n",
    "       'below50pov', 'below125po', 'below150po', 'below185po', 'below200po',\n",
    "       'below300po', 'below400po', 'below500po', 'geometry']\n",
    "\n",
    "df_tx.drop(columns=['drop_1', 'drop_2', 'drop_3', 'drop_4', 'drop_5', 'drop_6', 'drop_7'], inplace=True)\n",
    "\n",
    "df_tx.head(1)"
   ]
  },
  {
   "cell_type": "code",
   "execution_count": 29,
   "id": "8efdcdb3-ab84-4cf8-9be2-9801418f0b11",
   "metadata": {},
   "outputs": [
    {
     "data": {
      "text/plain": [
       "Index(['tract', 'company', 'corp', 'number_refineries', 'county', 'population',\n",
       "       'respiratory_hi', 'neurological_hi', 'developmental_hi',\n",
       "       'reproductive_hi', 'kidney_hi', 'immunological_hi', 'whole_body_hi',\n",
       "       'total_cancer_risk_(per_million)',\n",
       "       'pt-stationarypoint_cancer_risk_(per_million)',\n",
       "       'benzene_cancer_risk_(per_million)',\n",
       "       'coke_oven_emissions_cancer_risk_(per_million)',\n",
       "       '1,3-butadiene_cancer_risk_(per_million)', 'benzene_(year_2017_tons)',\n",
       "       'toluene_(year_2017_tons)', 'ethyl_benzene_(year_2017_tons)',\n",
       "       'xylenes_(mixed_isomers)_(year_2017_tons)',\n",
       "       'diesel_pm_(year_2017_tons)', '2,2,4-trimethylpentane_(year_2017_tons)',\n",
       "       'coke_oven_emissions_(year_2017_tons)',\n",
       "       '1,3-butadiene_(year_2017_tons)'],\n",
       "      dtype='object')"
      ]
     },
     "execution_count": 29,
     "metadata": {},
     "output_type": "execute_result"
    }
   ],
   "source": [
    "refinery_df.columns"
   ]
  },
  {
   "cell_type": "code",
   "execution_count": 30,
   "id": "82227270-1d71-4744-93b5-586640c18a2d",
   "metadata": {},
   "outputs": [
    {
     "data": {
      "text/html": [
       "<div>\n",
       "<style scoped>\n",
       "    .dataframe tbody tr th:only-of-type {\n",
       "        vertical-align: middle;\n",
       "    }\n",
       "\n",
       "    .dataframe tbody tr th {\n",
       "        vertical-align: top;\n",
       "    }\n",
       "\n",
       "    .dataframe thead th {\n",
       "        text-align: right;\n",
       "    }\n",
       "</style>\n",
       "<table border=\"1\" class=\"dataframe\">\n",
       "  <thead>\n",
       "    <tr style=\"text-align: right;\">\n",
       "      <th></th>\n",
       "      <th>tract_num</th>\n",
       "      <th>company</th>\n",
       "      <th>corp</th>\n",
       "      <th>num_refine</th>\n",
       "      <th>county</th>\n",
       "      <th>respir_hi</th>\n",
       "      <th>neurol_hi</th>\n",
       "      <th>develop_hi</th>\n",
       "      <th>reprodu_hi</th>\n",
       "      <th>kidney_hi</th>\n",
       "      <th>...</th>\n",
       "      <th>coke_r/m</th>\n",
       "      <th>butadi_r/m</th>\n",
       "      <th>benzene_t</th>\n",
       "      <th>toluene_t</th>\n",
       "      <th>eth_benz_t</th>\n",
       "      <th>xylenes_t</th>\n",
       "      <th>diesel_t</th>\n",
       "      <th>trimeth_t</th>\n",
       "      <th>coke_t</th>\n",
       "      <th>butadien_t</th>\n",
       "    </tr>\n",
       "  </thead>\n",
       "  <tbody>\n",
       "    <tr>\n",
       "      <th>0</th>\n",
       "      <td>48000000000</td>\n",
       "      <td>No refineries</td>\n",
       "      <td>No refineries</td>\n",
       "      <td>0.0</td>\n",
       "      <td>Entire State</td>\n",
       "      <td>0.4</td>\n",
       "      <td>0.03</td>\n",
       "      <td>0.03</td>\n",
       "      <td>0.03</td>\n",
       "      <td>0.008</td>\n",
       "      <td>...</td>\n",
       "      <td>0.0</td>\n",
       "      <td>0.480044</td>\n",
       "      <td>NaN</td>\n",
       "      <td>NaN</td>\n",
       "      <td>NaN</td>\n",
       "      <td>NaN</td>\n",
       "      <td>NaN</td>\n",
       "      <td>NaN</td>\n",
       "      <td>NaN</td>\n",
       "      <td>NaN</td>\n",
       "    </tr>\n",
       "  </tbody>\n",
       "</table>\n",
       "<p>1 rows × 25 columns</p>\n",
       "</div>"
      ],
      "text/plain": [
       "     tract_num        company           corp  num_refine        county  \\\n",
       "0  48000000000  No refineries  No refineries         0.0  Entire State   \n",
       "\n",
       "   respir_hi  neurol_hi  develop_hi  reprodu_hi  kidney_hi  ...  coke_r/m  \\\n",
       "0        0.4       0.03        0.03        0.03      0.008  ...       0.0   \n",
       "\n",
       "   butadi_r/m  benzene_t  toluene_t  eth_benz_t  xylenes_t  diesel_t  \\\n",
       "0    0.480044        NaN        NaN         NaN        NaN       NaN   \n",
       "\n",
       "   trimeth_t  coke_t  butadien_t  \n",
       "0        NaN     NaN         NaN  \n",
       "\n",
       "[1 rows x 25 columns]"
      ]
     },
     "execution_count": 30,
     "metadata": {},
     "output_type": "execute_result"
    }
   ],
   "source": [
    "refinery_df.columns = ['tract_num','company','corp','num_refine','county','drop_1','respir_hi','neurol_hi','develop_hi',\n",
    "                       'reprodu_hi','kidney_hi','immuno_hi','tot_bod_hi','total_r/m','ptstat_r/m','benzen_r/m','coke_r/m',\n",
    "                       'butadi_r/m','benzene_t','toluene_t','eth_benz_t','xylenes_t','diesel_t','trimeth_t','coke_t','butadien_t']\n",
    "\n",
    "refinery_df.drop(columns='drop_1', inplace=True)\n",
    "\n",
    "refinery_df.head(1)"
   ]
  },
  {
   "cell_type": "markdown",
   "id": "7d487ba2-b410-4821-a0c4-965ada63dac0",
   "metadata": {
    "tags": []
   },
   "source": [
    "## Check for duplicate column names\n",
    "\n",
    "- just tract_num for joining"
   ]
  },
  {
   "cell_type": "code",
   "execution_count": 31,
   "id": "1139f493-eccb-4707-823b-e626fdc3356b",
   "metadata": {},
   "outputs": [
    {
     "data": {
      "text/plain": [
       "['tract_num']"
      ]
     },
     "execution_count": 31,
     "metadata": {},
     "output_type": "execute_result"
    }
   ],
   "source": [
    "[col for col in cancer_df.columns if col in df_tx.columns or col in refinery_df.columns]"
   ]
  },
  {
   "cell_type": "code",
   "execution_count": 32,
   "id": "0c3e9609-4056-4c60-b9e4-42bfeac3474e",
   "metadata": {},
   "outputs": [
    {
     "data": {
      "text/plain": [
       "['tract_num']"
      ]
     },
     "execution_count": 32,
     "metadata": {},
     "output_type": "execute_result"
    }
   ],
   "source": [
    "[col for col in refinery_df.columns if col in df_tx.columns or col in cancer_df.columns]"
   ]
  },
  {
   "cell_type": "code",
   "execution_count": 33,
   "id": "df04196c-8d42-42db-a2da-356cb985a71e",
   "metadata": {},
   "outputs": [
    {
     "data": {
      "text/plain": [
       "['tract_num']"
      ]
     },
     "execution_count": 33,
     "metadata": {},
     "output_type": "execute_result"
    }
   ],
   "source": [
    "[col for col in df_tx.columns if col in cancer_df.columns or col in refinery_df.columns]"
   ]
  },
  {
   "cell_type": "markdown",
   "id": "fbaa664a-8685-4819-8759-1eb4d9da27f2",
   "metadata": {},
   "source": [
    "## Join dataframes into one and save to shape file"
   ]
  },
  {
   "cell_type": "code",
   "execution_count": 34,
   "id": "403b3439-596c-4f17-a7aa-0f7f4799628b",
   "metadata": {},
   "outputs": [
    {
     "name": "stdout",
     "output_type": "stream",
     "text": [
      "(5265, 20)\n",
      "(5493, 25)\n",
      "(5222, 7)\n"
     ]
    }
   ],
   "source": [
    "print(df_tx.shape)\n",
    "print(refinery_df.shape)\n",
    "print(cancer_df.shape)"
   ]
  },
  {
   "cell_type": "code",
   "execution_count": 35,
   "id": "f10897f8-6813-44da-bfa1-d9116da301a9",
   "metadata": {},
   "outputs": [
    {
     "data": {
      "text/plain": [
       "Index(['tract_num', 'company', 'corp', 'num_refine', 'county', 'respir_hi',\n",
       "       'neurol_hi', 'develop_hi', 'reprodu_hi', 'kidney_hi', 'immuno_hi',\n",
       "       'tot_bod_hi', 'total_r/m', 'ptstat_r/m', 'benzen_r/m', 'coke_r/m',\n",
       "       'butadi_r/m', 'benzene_t', 'toluene_t', 'eth_benz_t', 'xylenes_t',\n",
       "       'diesel_t', 'trimeth_t', 'coke_t', 'butadien_t', 'county_num',\n",
       "       'cancer_%', 'cancer_%_l', 'cancer_%_h', 'total_pop', 'geo_loc', 'mtfcc',\n",
       "       'aland', 'awater', 'intptlat', 'intptlon', 'households', 'below_pove',\n",
       "       'hh_snap', 'hh_nowork', 'tract_name', 'below50pov', 'below125po',\n",
       "       'below150po', 'below185po', 'below200po', 'below300po', 'below400po',\n",
       "       'below500po', 'geometry'],\n",
       "      dtype='object')"
      ]
     },
     "execution_count": 35,
     "metadata": {},
     "output_type": "execute_result"
    }
   ],
   "source": [
    "combined = refinery_df.merge(cancer_df, on='tract_num', how='left')\n",
    "\n",
    "combined = combined.merge(df_tx, on='tract_num', how='left')\n",
    "\n",
    "combined_gpd = gpd.GeoDataFrame(combined,geometry='geometry')\n",
    "\n",
    "combined_gpd.columns"
   ]
  },
  {
   "cell_type": "code",
   "execution_count": 36,
   "id": "3a83145e-ddc1-49ff-a41e-cb2ab88b97bf",
   "metadata": {},
   "outputs": [
    {
     "data": {
      "text/plain": [
       "geopandas.geodataframe.GeoDataFrame"
      ]
     },
     "execution_count": 36,
     "metadata": {},
     "output_type": "execute_result"
    }
   ],
   "source": [
    "type(combined_gpd)"
   ]
  },
  {
   "cell_type": "code",
   "execution_count": 37,
   "id": "80518ddb-6abf-4c69-9957-c8a3a77055ce",
   "metadata": {},
   "outputs": [
    {
     "name": "stdout",
     "output_type": "stream",
     "text": [
      "<class 'geopandas.geodataframe.GeoDataFrame'>\n",
      "Int64Index: 5493 entries, 0 to 5492\n",
      "Data columns (total 50 columns):\n",
      " #   Column      Non-Null Count  Dtype   \n",
      "---  ------      --------------  -----   \n",
      " 0   tract_num   5493 non-null   int64   \n",
      " 1   company     5493 non-null   object  \n",
      " 2   corp        5493 non-null   object  \n",
      " 3   num_refine  5493 non-null   float64 \n",
      " 4   county      5493 non-null   object  \n",
      " 5   respir_hi   5493 non-null   float64 \n",
      " 6   neurol_hi   5493 non-null   float64 \n",
      " 7   develop_hi  5493 non-null   float64 \n",
      " 8   reprodu_hi  5493 non-null   float64 \n",
      " 9   kidney_hi   5493 non-null   float64 \n",
      " 10  immuno_hi   5493 non-null   float64 \n",
      " 11  tot_bod_hi  5493 non-null   float64 \n",
      " 12  total_r/m   5493 non-null   int64   \n",
      " 13  ptstat_r/m  5493 non-null   float64 \n",
      " 14  benzen_r/m  5493 non-null   float64 \n",
      " 15  coke_r/m    5493 non-null   float64 \n",
      " 16  butadi_r/m  5493 non-null   float64 \n",
      " 17  benzene_t   867 non-null    float64 \n",
      " 18  toluene_t   867 non-null    float64 \n",
      " 19  eth_benz_t  867 non-null    float64 \n",
      " 20  xylenes_t   867 non-null    float64 \n",
      " 21  diesel_t    867 non-null    float64 \n",
      " 22  trimeth_t   867 non-null    float64 \n",
      " 23  coke_t      867 non-null    float64 \n",
      " 24  butadien_t  867 non-null    float64 \n",
      " 25  county_num  5222 non-null   float64 \n",
      " 26  cancer_%    5222 non-null   float64 \n",
      " 27  cancer_%_l  5222 non-null   float64 \n",
      " 28  cancer_%_h  5222 non-null   float64 \n",
      " 29  total_pop   5222 non-null   float64 \n",
      " 30  geo_loc     5222 non-null   object  \n",
      " 31  mtfcc       5238 non-null   object  \n",
      " 32  aland       5238 non-null   float64 \n",
      " 33  awater      5238 non-null   float64 \n",
      " 34  intptlat    5238 non-null   object  \n",
      " 35  intptlon    5238 non-null   object  \n",
      " 36  households  5238 non-null   float64 \n",
      " 37  below_pove  5238 non-null   float64 \n",
      " 38  hh_snap     5238 non-null   float64 \n",
      " 39  hh_nowork   5238 non-null   object  \n",
      " 40  tract_name  5238 non-null   object  \n",
      " 41  below50pov  5238 non-null   float64 \n",
      " 42  below125po  5238 non-null   float64 \n",
      " 43  below150po  5238 non-null   float64 \n",
      " 44  below185po  5238 non-null   float64 \n",
      " 45  below200po  5238 non-null   float64 \n",
      " 46  below300po  5238 non-null   float64 \n",
      " 47  below400po  5238 non-null   float64 \n",
      " 48  below500po  5238 non-null   float64 \n",
      " 49  geometry    5238 non-null   geometry\n",
      "dtypes: float64(38), geometry(1), int64(2), object(9)\n",
      "memory usage: 2.1+ MB\n"
     ]
    }
   ],
   "source": [
    "combined_gpd.info()"
   ]
  },
  {
   "cell_type": "code",
   "execution_count": 38,
   "id": "687e70a3-5319-4714-b206-b735de097145",
   "metadata": {},
   "outputs": [],
   "source": [
    "combined_gpd.to_file('../cleaned_datasets/all_data_shape/all_data_shape.shp', index=False)"
   ]
  },
  {
   "cell_type": "markdown",
   "id": "a6acb45e-2008-4e63-bd89-d66007459662",
   "metadata": {},
   "source": [
    "## Create another shapefile for the Tableau with additional data"
   ]
  },
  {
   "cell_type": "code",
   "execution_count": 43,
   "id": "19077202-4a4c-406b-8e35-1a274c0010d9",
   "metadata": {},
   "outputs": [],
   "source": [
    "tri = pd.read_csv('../cleaned_datasets/tri_2017_tx_cleaned.csv')"
   ]
  },
  {
   "cell_type": "code",
   "execution_count": 44,
   "id": "2ca9f6d3-e921-4069-9bbb-c64e046777b0",
   "metadata": {},
   "outputs": [],
   "source": [
    "combined_tri = combined_gpd.merge(tri, left_on='tract_num', right_on='tract', how='left')"
   ]
  },
  {
   "cell_type": "code",
   "execution_count": 45,
   "id": "e6fc4c85-c09b-403e-a38b-396e2365978f",
   "metadata": {},
   "outputs": [],
   "source": [
    "combined_tri = combined_tri[combined_tri['geometry'] != None]"
   ]
  },
  {
   "cell_type": "code",
   "execution_count": 46,
   "id": "7c8610b1-e5c5-4af1-bfb1-179c960bd01e",
   "metadata": {},
   "outputs": [],
   "source": [
    "combined_tri['number_facilities'].fillna(0,inplace=True)"
   ]
  },
  {
   "cell_type": "code",
   "execution_count": 47,
   "id": "5bed9a81-7c0a-4ddd-87ba-874f549008d7",
   "metadata": {},
   "outputs": [
    {
     "data": {
      "text/plain": [
       "Index(['tract_num', 'company', 'corp', 'num_refine', 'county', 'respir_hi',\n",
       "       'neurol_hi', 'develop_hi', 'reprodu_hi', 'kidney_hi', 'immuno_hi',\n",
       "       'tot_bod_hi', 'total_r/m', 'ptstat_r/m', 'benzen_r/m', 'coke_r/m',\n",
       "       'butadi_r/m', 'benzene_t', 'toluene_t', 'eth_benz_t', 'xylenes_t',\n",
       "       'diesel_t', 'trimeth_t', 'coke_t', 'butadien_t', 'county_num',\n",
       "       'cancer_%', 'cancer_%_l', 'cancer_%_h', 'total_pop', 'geo_loc', 'mtfcc',\n",
       "       'aland', 'awater', 'intptlat', 'intptlon', 'households', 'below_pove',\n",
       "       'hh_snap', 'hh_nowork', 'tract_name', 'below50pov', 'below125po',\n",
       "       'below150po', 'below185po', 'below200po', 'below300po', 'below400po',\n",
       "       'below500po', 'geometry', 'tract', 'facility_name', 'industry_sector',\n",
       "       'number_facilities'],\n",
       "      dtype='object')"
      ]
     },
     "execution_count": 47,
     "metadata": {},
     "output_type": "execute_result"
    }
   ],
   "source": [
    "combined_tri.columns"
   ]
  },
  {
   "cell_type": "code",
   "execution_count": 48,
   "id": "748331e5-2586-43b9-8b83-856fbc67ec74",
   "metadata": {},
   "outputs": [],
   "source": [
    "weightavept = (combined_tri['ptstat_r/m']*combined_tri['total_pop']).sum()/(combined_tri['total_pop'].sum())"
   ]
  },
  {
   "cell_type": "code",
   "execution_count": 49,
   "id": "6dff959e-d370-49cb-aec1-29275b18c8a6",
   "metadata": {},
   "outputs": [
    {
     "data": {
      "text/plain": [
       "(4.076782082103722, 4.20685538239647)"
      ]
     },
     "execution_count": 49,
     "metadata": {},
     "output_type": "execute_result"
    }
   ],
   "source": [
    "combined_tri['ptstat_r/m'].mean(), weightavept #not that different"
   ]
  },
  {
   "cell_type": "code",
   "execution_count": 50,
   "id": "ae387ff4-5758-43d9-89b9-6a7e904bcf32",
   "metadata": {},
   "outputs": [
    {
     "data": {
      "text/plain": [
       "2       0.090393\n",
       "3       0.031572\n",
       "4       0.098055\n",
       "5       0.034675\n",
       "6       0.035697\n",
       "          ...   \n",
       "5487    0.011362\n",
       "5489    0.008545\n",
       "5490    0.001694\n",
       "5491    0.005665\n",
       "5492    0.005983\n",
       "Name: ptstat_r/m, Length: 5238, dtype: float64"
      ]
     },
     "execution_count": 50,
     "metadata": {},
     "output_type": "execute_result"
    }
   ],
   "source": [
    "combined_tri['ptstat_r/m']/weightavept"
   ]
  },
  {
   "cell_type": "code",
   "execution_count": 51,
   "id": "b8e281df-739b-4603-a4fa-431563cf0e5d",
   "metadata": {},
   "outputs": [],
   "source": [
    "combined_tri['weighted_multiple'] = combined_tri['ptstat_r/m']/weightavept"
   ]
  },
  {
   "cell_type": "code",
   "execution_count": 52,
   "id": "44ae4c95-5dd6-4ef2-b1f6-27a95e259aab",
   "metadata": {},
   "outputs": [
    {
     "data": {
      "image/png": "[encoded data removed]",
      "text/plain": [
       "<Figure size 432x288 with 1 Axes>"
      ]
     },
     "metadata": {
      "needs_background": "light"
     },
     "output_type": "display_data"
    }
   ],
   "source": [
    "sns.histplot(combined_tri['ptstat_r/m']/weightavept,stat='probability')\n",
    "plt.xlim([0,10]);"
   ]
  },
  {
   "cell_type": "code",
   "execution_count": 53,
   "id": "c1956ebf-9a6b-4368-ad19-e75080a3575a",
   "metadata": {},
   "outputs": [
    {
     "data": {
      "text/plain": [
       "0.9690806342340557"
      ]
     },
     "execution_count": 53,
     "metadata": {},
     "output_type": "execute_result"
    }
   ],
   "source": [
    "combined_tri['weighted_multiple'].mean() #about what you would expect if this is norming on on the average exposure-> the reason it's not \n",
    "#*perfectly* 1 is because it's weighted, and undoing that would require slightly different calculations. But this is just a sanity check"
   ]
  },
  {
   "cell_type": "code",
   "execution_count": 55,
   "id": "0cc33b8f-4c50-4f47-bdbe-1dc918c29bc2",
   "metadata": {},
   "outputs": [
    {
     "name": "stderr",
     "output_type": "stream",
     "text": [
      "/var/folders/0z/k5klxhhj5j9g8hc5ygn0nwsr0000gn/T/ipykernel_12733/256039464.py:1: UserWarning: Column names longer than 10 characters will be truncated when saved to ESRI Shapefile.\n",
      "  combined_tri.to_file('../cleaned_datasets2/all_plus_facilities', index=False)\n"
     ]
    }
   ],
   "source": [
    "combined_tri.to_file('../cleaned_datasets/all_plus_facilities', index=False)"
   ]
  },
  {
   "cell_type": "code",
   "execution_count": null,
   "id": "ec0467fa-384e-4df1-a1aa-180fd74a10c6",
   "metadata": {},
   "outputs": [],
   "source": []
  },
  {
   "cell_type": "code",
   "execution_count": null,
   "id": "fb98b4dc-f888-4bb4-8a2d-5e9b1cdc9568",
   "metadata": {},
   "outputs": [],
   "source": []
  }
 ],
 "metadata": {
  "kernelspec": {
   "display_name": "Python 3 (ipykernel)",
   "language": "python",
   "name": "python3"
  },
  "language_info": {
   "codemirror_mode": {
    "name": "ipython",
    "version": 3
   },
   "file_extension": ".py",
   "mimetype": "text/x-python",
   "name": "python",
   "nbconvert_exporter": "python",
   "pygments_lexer": "ipython3",
   "version": "3.9.12"
  }
 },
 "nbformat": 4,
 "nbformat_minor": 5
}
