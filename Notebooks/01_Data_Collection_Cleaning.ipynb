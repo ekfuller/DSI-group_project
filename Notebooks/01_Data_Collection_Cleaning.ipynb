{
 "cells": [
  {
   "cell_type": "markdown",
   "id": "991552ad-fc93-4281-b5e9-838b6165c199",
   "metadata": {},
   "source": [
    "# 1. Data Collection and Cleaning\n",
    "\n",
    "The purpose of this notebook is to clean, simplify, and save various datasets so that the data can be merged and visualized."
   ]
  },
  {
   "cell_type": "code",
   "execution_count": 1,
   "id": "b90fcfde-39f7-4f77-9b67-714acf9bc9b5",
   "metadata": {},
   "outputs": [],
   "source": [
    "import pandas as pd\n",
    "import numpy as np\n",
    "import matplotlib.pyplot as plt\n",
    "import requests\n",
    "import random\n",
    "import zipfile"
   ]
  },
  {
   "cell_type": "code",
   "execution_count": 2,
   "id": "8d49b7ed-ca69-4225-b72c-8113d23b2235",
   "metadata": {},
   "outputs": [],
   "source": [
    "random.seed(6)"
   ]
  },
  {
   "cell_type": "markdown",
   "id": "0fabd76a-f291-405c-adbc-e48620cf9981",
   "metadata": {},
   "source": [
    "## Develop API to match coordinates to census tract"
   ]
  },
  {
   "cell_type": "code",
   "execution_count": 3,
   "id": "2350370a-de3c-4776-a9f8-0cd5c5ae3091",
   "metadata": {},
   "outputs": [],
   "source": [
    "def coord_to_tract(lat, long):\n",
    "    \"\"\" This function identifies the FIPs census tract number for a given latitude and longitude using the 2010 census.\n",
    "    \n",
    "    args:\n",
    "        lat (float): Latitude\n",
    "        long (float): Longitude\n",
    "        \n",
    "    return:\n",
    "        tract (int): census tract number, which is the first 11 digits of the census block FIPs\n",
    "    \"\"\"\n",
    "    url = 'https://geo.fcc.gov/api/census/block/find'\n",
    "    \n",
    "    params = {\n",
    "        'latitude': lat,\n",
    "        'longitude': long,\n",
    "        'censusYear': 2010,\n",
    "        'format':'json'\n",
    "    }\n",
    "    res = requests.get(url,params)\n",
    "    if res.status_code == 200:\n",
    "        fips = res.json()['Block']['FIPS']\n",
    "        return fips[0:11]\n",
    "    else:\n",
    "        print('request_failed')"
   ]
  },
  {
   "cell_type": "markdown",
   "id": "5b8b6634-e059-4e00-bba9-b0c18e872289",
   "metadata": {},
   "source": [
    "## Datasets"
   ]
  },
  {
   "cell_type": "markdown",
   "id": "f0b466bc-8930-437a-bd27-18daaaf9500f",
   "metadata": {
    "tags": []
   },
   "source": [
    "### US Petroleum Refineries"
   ]
  },
  {
   "cell_type": "code",
   "execution_count": 4,
   "id": "df101909-22d8-4a43-8964-f3d217d893ae",
   "metadata": {},
   "outputs": [],
   "source": [
    "# Read in data, rename columns, and filter to Texas only\n",
    "df_refineries = pd.read_csv('../datasets/us-petroleum-refineries.csv')\n",
    "\n",
    "df_refineries.columns = df_refineries.columns.astype(str).str.strip().str.lower().str.replace(' ','_')\n",
    "\n",
    "df_refineries = df_refineries[df_refineries['state'] == 'Texas']"
   ]
  },
  {
   "cell_type": "code",
   "execution_count": 5,
   "id": "86edb8a1-57b6-4e8b-9f67-7512068f8b86",
   "metadata": {},
   "outputs": [],
   "source": [
    "# Obtain tract number\n",
    "refinery_tract = []\n",
    "for refinery in df_refineries.index:\n",
    "    coords = df_refineries.loc[refinery,['latitude','longitude']]\n",
    "    refinery_tract.append(coord_to_tract(coords[0],coords[1]))\n",
    "\n",
    "df_refineries['tract'] = refinery_tract"
   ]
  },
  {
   "cell_type": "code",
   "execution_count": 6,
   "id": "2074f68c-1166-469b-a592-6cfb2d146be9",
   "metadata": {},
   "outputs": [],
   "source": [
    "# Reduce columns\n",
    "df_refineries = df_refineries[['company', 'corp', 'tract']]"
   ]
  },
  {
   "cell_type": "code",
   "execution_count": 7,
   "id": "0ff3c327-3569-424c-a281-85539a8d5e7d",
   "metadata": {
    "tags": []
   },
   "outputs": [
    {
     "data": {
      "text/plain": [
       "48355006300    3\n",
       "48167726200    3\n",
       "48245011201    1\n",
       "48297950100    1\n",
       "48201233703    1\n",
       "48201252600    1\n",
       "48493000500    1\n",
       "48199031000    1\n",
       "48245011600    1\n",
       "48201324200    1\n",
       "48355000600    1\n",
       "48201320500    1\n",
       "48245006600    1\n",
       "48201343600    1\n",
       "48341950200    1\n",
       "48227950100    1\n",
       "48039662700    1\n",
       "48233951000    1\n",
       "48245000700    1\n",
       "48201253700    1\n",
       "48029192200    1\n",
       "48201324100    1\n",
       "48423000600    1\n",
       "48141003501    1\n",
       "48201252500    1\n",
       "Name: tract, dtype: int64"
      ]
     },
     "execution_count": 7,
     "metadata": {},
     "output_type": "execute_result"
    }
   ],
   "source": [
    "df_refineries['tract'].value_counts() # there are duplicate refineries in tracts"
   ]
  },
  {
   "cell_type": "code",
   "execution_count": 8,
   "id": "5d0bc1b1-a233-484a-9fb4-53ac5edb5676",
   "metadata": {},
   "outputs": [],
   "source": [
    "# Let's combine refineries to 1 tract number and add a number of refineries to each tract\n",
    "\n",
    "df_refineries['number_refineries'] = 1\n",
    "\n",
    "# For the repeats, let's combine refinery company names and corporation names\n",
    "for i in df_refineries['tract'].value_counts()[0:2].index:\n",
    "    matches = df_refineries[(df_refineries['tract'] == i)]\n",
    "    company_names = matches['company'].str.cat(sep=', ')\n",
    "    corp_names = matches['corp'].str.cat(sep=', ')\n",
    "    df_refineries.loc[matches.index[0],['company','corp','number_refineries']] = [company_names, corp_names, matches.shape[0]]\n",
    "df_refineries.drop_duplicates(subset='tract',inplace=True)\n",
    "df_refineries.set_index('tract',inplace=True)"
   ]
  },
  {
   "cell_type": "markdown",
   "id": "52ae11ca-13f0-4c5b-ab67-9761a319ba6a",
   "metadata": {
    "tags": []
   },
   "source": [
    "### EPA 2017 AirToxScreen: Cancer Risk by Source Group"
   ]
  },
  {
   "cell_type": "code",
   "execution_count": 9,
   "id": "9ce4a2c9-c8b4-4b0b-8d3f-2e2126ef55b0",
   "metadata": {},
   "outputs": [],
   "source": [
    "# Read in data, rename columns, and filter to Texas only\n",
    "df_epa_cancer_by_source = pd.read_excel('../datasets/national_cancerrisk_by_tract_srcgrp.xlsx')\n",
    "\n",
    "df_epa_cancer_by_source.columns = df_epa_cancer_by_source.columns.astype(str).str.strip().str.lower().str.replace(' ','_')\n",
    "\n",
    "df_epa_cancer_by_source_TX = df_epa_cancer_by_source[df_epa_cancer_by_source['state'] == 'TX']"
   ]
  },
  {
   "cell_type": "code",
   "execution_count": 10,
   "id": "30d636df-9429-4382-aa1b-afacb7ca68bc",
   "metadata": {},
   "outputs": [],
   "source": [
    "# Reduce columns\n",
    "df_epa_cancer_by_source_TX = df_epa_cancer_by_source_TX[['tract','total_cancer_risk_(per_million)','pt-stationarypoint_cancer_risk_(per_million)']]"
   ]
  },
  {
   "cell_type": "code",
   "execution_count": 11,
   "id": "9b17b16b-47c0-48a9-a470-f25671953916",
   "metadata": {},
   "outputs": [],
   "source": [
    "df_epa_cancer_by_source_TX.set_index('tract',inplace=True)"
   ]
  },
  {
   "cell_type": "markdown",
   "id": "35a30fd1-4a3f-4c1c-8c56-9f060a92101b",
   "metadata": {
    "tags": []
   },
   "source": [
    "### EPA 2017 AirToxScreen: Cancer Risk by Pollutant"
   ]
  },
  {
   "cell_type": "code",
   "execution_count": 12,
   "id": "77152efd-fc3f-406b-ab4c-008061dc5dd7",
   "metadata": {},
   "outputs": [],
   "source": [
    "# Read in data, rename columns, and filter to Texas only\n",
    "df_epa_cancer_by_pollutant = pd.read_excel('../datasets/national_cancerrisk_by_tract_poll.xlsx',)\n",
    "\n",
    "df_epa_cancer_by_pollutant.columns = df_epa_cancer_by_pollutant.columns.astype(str).str.strip().str.lower().str.replace(' ','_')\n",
    "\n",
    "df_epa_cancer_by_pollutant_TX = df_epa_cancer_by_pollutant[df_epa_cancer_by_pollutant['state'] == 'TX']"
   ]
  },
  {
   "cell_type": "code",
   "execution_count": 13,
   "id": "39851fb5-56cc-47cc-9bd8-df5e3db1a72d",
   "metadata": {},
   "outputs": [],
   "source": [
    "# Reduce columns\n",
    "df_epa_cancer_by_pollutant_TX = df_epa_cancer_by_pollutant_TX[['tract', 'benzene',\n",
    "'coke_oven_emissions',\n",
    "'1,3-butadiene']]"
   ]
  },
  {
   "cell_type": "code",
   "execution_count": 14,
   "id": "31c93fe6-6270-426c-a5b3-9f59166029df",
   "metadata": {},
   "outputs": [],
   "source": [
    "df_epa_cancer_by_pollutant_TX.set_index('tract',inplace=True)"
   ]
  },
  {
   "cell_type": "code",
   "execution_count": 15,
   "id": "389a4101-04fa-4ffa-ba66-a7327f081b18",
   "metadata": {},
   "outputs": [],
   "source": [
    "df_epa_cancer_by_pollutant_TX.columns = df_epa_cancer_by_pollutant_TX.columns + '_cancer_risk_(per_million)'"
   ]
  },
  {
   "cell_type": "markdown",
   "id": "5c69bc08-e3b3-4fa0-be88-7a5e686158f5",
   "metadata": {
    "tags": []
   },
   "source": [
    "### EPA 2017 AirToxScreen: Emissions by Source"
   ]
  },
  {
   "cell_type": "code",
   "execution_count": 16,
   "id": "7fe5576c-b615-4919-9ab9-3471218d1640",
   "metadata": {},
   "outputs": [
    {
     "name": "stderr",
     "output_type": "stream",
     "text": [
      "/var/folders/0z/k5klxhhj5j9g8hc5ygn0nwsr0000gn/T/ipykernel_12720/3583804125.py:8: SettingWithCopyWarning: \n",
      "A value is trying to be set on a copy of a slice from a DataFrame.\n",
      "Try using .loc[row_indexer,col_indexer] = value instead\n",
      "\n",
      "See the caveats in the documentation: https://pandas.pydata.org/pandas-docs/stable/user_guide/indexing.html#returning-a-view-versus-a-copy\n",
      "  df_epa_emissions_by_source_TX.loc[:,'state'] = 'TX'\n",
      "/var/folders/0z/k5klxhhj5j9g8hc5ygn0nwsr0000gn/T/ipykernel_12720/3583804125.py:11: SettingWithCopyWarning: \n",
      "A value is trying to be set on a copy of a slice from a DataFrame.\n",
      "Try using .loc[row_indexer,col_indexer] = value instead\n",
      "\n",
      "See the caveats in the documentation: https://pandas.pydata.org/pandas-docs/stable/user_guide/indexing.html#returning-a-view-versus-a-copy\n",
      "  df_epa_emissions_by_source_TX['facility_id'] = pd.to_numeric(df_epa_emissions_by_source_TX['facility_id'], errors='coerce')\n",
      "/var/folders/0z/k5klxhhj5j9g8hc5ygn0nwsr0000gn/T/ipykernel_12720/3583804125.py:13: SettingWithCopyWarning: \n",
      "A value is trying to be set on a copy of a slice from a DataFrame\n",
      "\n",
      "See the caveats in the documentation: https://pandas.pydata.org/pandas-docs/stable/user_guide/indexing.html#returning-a-view-versus-a-copy\n",
      "  df_epa_emissions_by_source_TX.dropna(inplace=True)\n"
     ]
    }
   ],
   "source": [
    "# Read in data, rename columns, and filter to Texas only\n",
    "df_epa_emissions_by_source = pd.read_excel('../datasets/point_fac_2017_emissions.xlsx')\n",
    "\n",
    "df_epa_emissions_by_source.columns = df_epa_emissions_by_source.columns.astype(str).str.strip().str.lower().str.replace(' ','_')\n",
    "\n",
    "df_epa_emissions_by_source_TX = df_epa_emissions_by_source[df_epa_emissions_by_source['state'] == 'Texas']\n",
    "\n",
    "df_epa_emissions_by_source_TX.loc[:,'state'] = 'TX'\n",
    "\n",
    "# Drop non-numerical values for facility-id\n",
    "df_epa_emissions_by_source_TX['facility_id'] = pd.to_numeric(df_epa_emissions_by_source_TX['facility_id'], errors='coerce')\n",
    "\n",
    "df_epa_emissions_by_source_TX.dropna(inplace=True)"
   ]
  },
  {
   "cell_type": "code",
   "execution_count": 17,
   "id": "a96c29e9-f0ac-4ac1-9883-c944660ac20d",
   "metadata": {},
   "outputs": [
    {
     "name": "stderr",
     "output_type": "stream",
     "text": [
      "/var/folders/0z/k5klxhhj5j9g8hc5ygn0nwsr0000gn/T/ipykernel_12720/3200267812.py:7: SettingWithCopyWarning: \n",
      "A value is trying to be set on a copy of a slice from a DataFrame.\n",
      "Try using .loc[row_indexer,col_indexer] = value instead\n",
      "\n",
      "See the caveats in the documentation: https://pandas.pydata.org/pandas-docs/stable/user_guide/indexing.html#returning-a-view-versus-a-copy\n",
      "  df_epa_emissions_by_source_TX['tract'] = emission_tract\n"
     ]
    }
   ],
   "source": [
    "# Obtain tract number\n",
    "emission_tract = []\n",
    "for source in df_epa_emissions_by_source_TX.index:\n",
    "    coords = df_epa_emissions_by_source_TX.loc[source,['latitude','longitude']]\n",
    "    emission_tract.append(coord_to_tract(coords[0],coords[1]))\n",
    "\n",
    "df_epa_emissions_by_source_TX['tract'] = emission_tract"
   ]
  },
  {
   "cell_type": "code",
   "execution_count": 18,
   "id": "0df7f7bf-91ff-4196-8c4f-714469833994",
   "metadata": {},
   "outputs": [],
   "source": [
    "# Reduce columns and groupby to combine by tract number\n",
    "df_epa_emissions_by_source_TX = df_epa_emissions_by_source_TX[['tract','benzene_(year_2017_tons)',\n",
    "        'toluene_(year_2017_tons)','ethyl_benzene_(year_2017_tons)',\n",
    "        'xylenes_(mixed_isomers)_(year_2017_tons)','diesel_pm_(year_2017_tons)',\n",
    "        '2,2,4-trimethylpentane_(year_2017_tons)','coke_oven_emissions_(year_2017_tons)',\n",
    "        '1,3-butadiene_(year_2017_tons)']\n",
    "                            ]\n",
    "\n",
    "df_epa_emissions_by_source_TX = df_epa_emissions_by_source_TX.groupby('tract').sum()"
   ]
  },
  {
   "cell_type": "code",
   "execution_count": 19,
   "id": "c81b9823-9b88-4013-8a72-b243e5101c59",
   "metadata": {},
   "outputs": [
    {
     "data": {
      "text/html": [
       "<div>\n",
       "<style scoped>\n",
       "    .dataframe tbody tr th:only-of-type {\n",
       "        vertical-align: middle;\n",
       "    }\n",
       "\n",
       "    .dataframe tbody tr th {\n",
       "        vertical-align: top;\n",
       "    }\n",
       "\n",
       "    .dataframe thead th {\n",
       "        text-align: right;\n",
       "    }\n",
       "</style>\n",
       "<table border=\"1\" class=\"dataframe\">\n",
       "  <thead>\n",
       "    <tr style=\"text-align: right;\">\n",
       "      <th></th>\n",
       "      <th>benzene_(year_2017_tons)</th>\n",
       "      <th>toluene_(year_2017_tons)</th>\n",
       "      <th>ethyl_benzene_(year_2017_tons)</th>\n",
       "      <th>xylenes_(mixed_isomers)_(year_2017_tons)</th>\n",
       "      <th>diesel_pm_(year_2017_tons)</th>\n",
       "      <th>2,2,4-trimethylpentane_(year_2017_tons)</th>\n",
       "      <th>coke_oven_emissions_(year_2017_tons)</th>\n",
       "      <th>1,3-butadiene_(year_2017_tons)</th>\n",
       "    </tr>\n",
       "    <tr>\n",
       "      <th>tract</th>\n",
       "      <th></th>\n",
       "      <th></th>\n",
       "      <th></th>\n",
       "      <th></th>\n",
       "      <th></th>\n",
       "      <th></th>\n",
       "      <th></th>\n",
       "      <th></th>\n",
       "    </tr>\n",
       "  </thead>\n",
       "  <tbody>\n",
       "    <tr>\n",
       "      <th>48001950100</th>\n",
       "      <td>0.000000</td>\n",
       "      <td>0.000000</td>\n",
       "      <td>0.000000</td>\n",
       "      <td>0.000000</td>\n",
       "      <td>0.0</td>\n",
       "      <td>0.000000</td>\n",
       "      <td>0.0</td>\n",
       "      <td>0.000000</td>\n",
       "    </tr>\n",
       "    <tr>\n",
       "      <th>48001950600</th>\n",
       "      <td>0.000000</td>\n",
       "      <td>0.000000</td>\n",
       "      <td>0.000000</td>\n",
       "      <td>0.000000</td>\n",
       "      <td>0.0</td>\n",
       "      <td>0.000000</td>\n",
       "      <td>0.0</td>\n",
       "      <td>0.000000</td>\n",
       "    </tr>\n",
       "    <tr>\n",
       "      <th>48001951000</th>\n",
       "      <td>0.000032</td>\n",
       "      <td>0.328400</td>\n",
       "      <td>2.712000</td>\n",
       "      <td>14.756400</td>\n",
       "      <td>0.0</td>\n",
       "      <td>0.000000</td>\n",
       "      <td>0.0</td>\n",
       "      <td>0.445400</td>\n",
       "    </tr>\n",
       "    <tr>\n",
       "      <th>48001951100</th>\n",
       "      <td>0.153100</td>\n",
       "      <td>0.107005</td>\n",
       "      <td>0.011852</td>\n",
       "      <td>0.045225</td>\n",
       "      <td>0.0</td>\n",
       "      <td>0.014812</td>\n",
       "      <td>0.0</td>\n",
       "      <td>0.068208</td>\n",
       "    </tr>\n",
       "    <tr>\n",
       "      <th>48003950100</th>\n",
       "      <td>3.050000</td>\n",
       "      <td>1.427061</td>\n",
       "      <td>0.535908</td>\n",
       "      <td>2.310171</td>\n",
       "      <td>0.0</td>\n",
       "      <td>0.664438</td>\n",
       "      <td>0.0</td>\n",
       "      <td>1.360713</td>\n",
       "    </tr>\n",
       "    <tr>\n",
       "      <th>...</th>\n",
       "      <td>...</td>\n",
       "      <td>...</td>\n",
       "      <td>...</td>\n",
       "      <td>...</td>\n",
       "      <td>...</td>\n",
       "      <td>...</td>\n",
       "      <td>...</td>\n",
       "      <td>...</td>\n",
       "    </tr>\n",
       "    <tr>\n",
       "      <th>48501950200</th>\n",
       "      <td>0.261663</td>\n",
       "      <td>1.422007</td>\n",
       "      <td>0.273398</td>\n",
       "      <td>0.529271</td>\n",
       "      <td>0.0</td>\n",
       "      <td>0.048500</td>\n",
       "      <td>0.0</td>\n",
       "      <td>0.117893</td>\n",
       "    </tr>\n",
       "    <tr>\n",
       "      <th>48503950400</th>\n",
       "      <td>0.000838</td>\n",
       "      <td>0.001357</td>\n",
       "      <td>0.000000</td>\n",
       "      <td>0.000017</td>\n",
       "      <td>0.0</td>\n",
       "      <td>0.000000</td>\n",
       "      <td>0.0</td>\n",
       "      <td>0.000000</td>\n",
       "    </tr>\n",
       "    <tr>\n",
       "      <th>48503950600</th>\n",
       "      <td>0.000000</td>\n",
       "      <td>1.525500</td>\n",
       "      <td>0.000000</td>\n",
       "      <td>0.816000</td>\n",
       "      <td>0.0</td>\n",
       "      <td>0.000000</td>\n",
       "      <td>0.0</td>\n",
       "      <td>0.000000</td>\n",
       "    </tr>\n",
       "    <tr>\n",
       "      <th>48505950400</th>\n",
       "      <td>0.031782</td>\n",
       "      <td>0.029009</td>\n",
       "      <td>0.002795</td>\n",
       "      <td>0.013054</td>\n",
       "      <td>0.0</td>\n",
       "      <td>0.017601</td>\n",
       "      <td>0.0</td>\n",
       "      <td>0.019136</td>\n",
       "    </tr>\n",
       "    <tr>\n",
       "      <th>48507950301</th>\n",
       "      <td>0.385000</td>\n",
       "      <td>0.136000</td>\n",
       "      <td>0.025000</td>\n",
       "      <td>0.036000</td>\n",
       "      <td>0.0</td>\n",
       "      <td>0.000000</td>\n",
       "      <td>0.0</td>\n",
       "      <td>0.000000</td>\n",
       "    </tr>\n",
       "  </tbody>\n",
       "</table>\n",
       "<p>870 rows × 8 columns</p>\n",
       "</div>"
      ],
      "text/plain": [
       "             benzene_(year_2017_tons)  toluene_(year_2017_tons)  \\\n",
       "tract                                                             \n",
       "48001950100                  0.000000                  0.000000   \n",
       "48001950600                  0.000000                  0.000000   \n",
       "48001951000                  0.000032                  0.328400   \n",
       "48001951100                  0.153100                  0.107005   \n",
       "48003950100                  3.050000                  1.427061   \n",
       "...                               ...                       ...   \n",
       "48501950200                  0.261663                  1.422007   \n",
       "48503950400                  0.000838                  0.001357   \n",
       "48503950600                  0.000000                  1.525500   \n",
       "48505950400                  0.031782                  0.029009   \n",
       "48507950301                  0.385000                  0.136000   \n",
       "\n",
       "             ethyl_benzene_(year_2017_tons)  \\\n",
       "tract                                         \n",
       "48001950100                        0.000000   \n",
       "48001950600                        0.000000   \n",
       "48001951000                        2.712000   \n",
       "48001951100                        0.011852   \n",
       "48003950100                        0.535908   \n",
       "...                                     ...   \n",
       "48501950200                        0.273398   \n",
       "48503950400                        0.000000   \n",
       "48503950600                        0.000000   \n",
       "48505950400                        0.002795   \n",
       "48507950301                        0.025000   \n",
       "\n",
       "             xylenes_(mixed_isomers)_(year_2017_tons)  \\\n",
       "tract                                                   \n",
       "48001950100                                  0.000000   \n",
       "48001950600                                  0.000000   \n",
       "48001951000                                 14.756400   \n",
       "48001951100                                  0.045225   \n",
       "48003950100                                  2.310171   \n",
       "...                                               ...   \n",
       "48501950200                                  0.529271   \n",
       "48503950400                                  0.000017   \n",
       "48503950600                                  0.816000   \n",
       "48505950400                                  0.013054   \n",
       "48507950301                                  0.036000   \n",
       "\n",
       "             diesel_pm_(year_2017_tons)  \\\n",
       "tract                                     \n",
       "48001950100                         0.0   \n",
       "48001950600                         0.0   \n",
       "48001951000                         0.0   \n",
       "48001951100                         0.0   \n",
       "48003950100                         0.0   \n",
       "...                                 ...   \n",
       "48501950200                         0.0   \n",
       "48503950400                         0.0   \n",
       "48503950600                         0.0   \n",
       "48505950400                         0.0   \n",
       "48507950301                         0.0   \n",
       "\n",
       "             2,2,4-trimethylpentane_(year_2017_tons)  \\\n",
       "tract                                                  \n",
       "48001950100                                 0.000000   \n",
       "48001950600                                 0.000000   \n",
       "48001951000                                 0.000000   \n",
       "48001951100                                 0.014812   \n",
       "48003950100                                 0.664438   \n",
       "...                                              ...   \n",
       "48501950200                                 0.048500   \n",
       "48503950400                                 0.000000   \n",
       "48503950600                                 0.000000   \n",
       "48505950400                                 0.017601   \n",
       "48507950301                                 0.000000   \n",
       "\n",
       "             coke_oven_emissions_(year_2017_tons)  \\\n",
       "tract                                               \n",
       "48001950100                                   0.0   \n",
       "48001950600                                   0.0   \n",
       "48001951000                                   0.0   \n",
       "48001951100                                   0.0   \n",
       "48003950100                                   0.0   \n",
       "...                                           ...   \n",
       "48501950200                                   0.0   \n",
       "48503950400                                   0.0   \n",
       "48503950600                                   0.0   \n",
       "48505950400                                   0.0   \n",
       "48507950301                                   0.0   \n",
       "\n",
       "             1,3-butadiene_(year_2017_tons)  \n",
       "tract                                        \n",
       "48001950100                        0.000000  \n",
       "48001950600                        0.000000  \n",
       "48001951000                        0.445400  \n",
       "48001951100                        0.068208  \n",
       "48003950100                        1.360713  \n",
       "...                                     ...  \n",
       "48501950200                        0.117893  \n",
       "48503950400                        0.000000  \n",
       "48503950600                        0.000000  \n",
       "48505950400                        0.019136  \n",
       "48507950301                        0.000000  \n",
       "\n",
       "[870 rows x 8 columns]"
      ]
     },
     "execution_count": 19,
     "metadata": {},
     "output_type": "execute_result"
    }
   ],
   "source": [
    "df_epa_emissions_by_source_TX"
   ]
  },
  {
   "cell_type": "markdown",
   "id": "f996634e-7092-4f6e-8952-6b543540a2e4",
   "metadata": {
    "tags": []
   },
   "source": [
    "### EPA 2017 AirToxScreen: All Hazard Indices by Source"
   ]
  },
  {
   "cell_type": "code",
   "execution_count": 20,
   "id": "42cd56e6-780e-4925-9e0e-4bb9ec619b22",
   "metadata": {},
   "outputs": [],
   "source": [
    "# Read in data, rename columns, and filter to Texas only\n",
    "df_epa_all_hazard_index = pd.read_excel('../datasets/national_allhi_by_tract.xlsx')\n",
    "\n",
    "df_epa_all_hazard_index.columns = df_epa_all_hazard_index.columns.astype(str).str.strip().str.lower().str.replace(' ','_')\n",
    "\n",
    "df_epa_all_hazard_index_TX = df_epa_all_hazard_index[df_epa_all_hazard_index['state'] == 'TX']\n"
   ]
  },
  {
   "cell_type": "code",
   "execution_count": 21,
   "id": "65428669-aa0d-4b2f-905e-68f8dccd4cc3",
   "metadata": {},
   "outputs": [],
   "source": [
    "# Reduce columns\n",
    "df_epa_all_hazard_index_TX = df_epa_all_hazard_index_TX[['tract','county','population','respiratory_hi', 'neurological_hi','developmental_hi',\n",
    "       'reproductive_hi', 'kidney_hi','immunological_hi','whole_body_hi']]"
   ]
  },
  {
   "cell_type": "code",
   "execution_count": 22,
   "id": "9df8f5a3-9bd4-4bbb-828f-f66d5238bd81",
   "metadata": {},
   "outputs": [],
   "source": [
    "df_epa_all_hazard_index_TX.set_index('tract',inplace=True)"
   ]
  },
  {
   "cell_type": "markdown",
   "id": "c42dc837-86c7-4e16-82c7-6c05aed17460",
   "metadata": {},
   "source": [
    "### Combine Datasets"
   ]
  },
  {
   "cell_type": "code",
   "execution_count": 23,
   "id": "e0f19334-d8b5-4728-9c26-f2845815da82",
   "metadata": {},
   "outputs": [],
   "source": [
    "df_merged = pd.merge(df_refineries.set_index(df_refineries.index.astype(int)),df_epa_all_hazard_index_TX,how = 'outer',left_index=True, right_index=True)"
   ]
  },
  {
   "cell_type": "code",
   "execution_count": 24,
   "id": "c3cc0ea7-d423-4d8b-9da2-223202b9719d",
   "metadata": {},
   "outputs": [],
   "source": [
    "df_merged['number_refineries'].fillna(0,inplace=True)"
   ]
  },
  {
   "cell_type": "code",
   "execution_count": 25,
   "id": "a1f79e2a-1f49-4477-a3d1-093adabdd0b1",
   "metadata": {},
   "outputs": [],
   "source": [
    "df_merged.fillna('No refineries',inplace=True)"
   ]
  },
  {
   "cell_type": "code",
   "execution_count": 26,
   "id": "da82c24f-d741-40c3-8d44-2e1a0e7b3d93",
   "metadata": {},
   "outputs": [],
   "source": [
    "df_merged = pd.merge(df_merged,df_epa_cancer_by_source_TX,how = 'outer',left_index=True, right_index=True)"
   ]
  },
  {
   "cell_type": "code",
   "execution_count": 27,
   "id": "1d378377-b570-4e3e-9859-62676748ca04",
   "metadata": {},
   "outputs": [],
   "source": [
    "df_merged = pd.merge(df_merged,df_epa_cancer_by_pollutant_TX,how = 'outer',left_index=True, right_index=True)"
   ]
  },
  {
   "cell_type": "code",
   "execution_count": 28,
   "id": "c8db0cc5-c731-4259-8ced-e339a0e2918a",
   "metadata": {},
   "outputs": [],
   "source": [
    "df_merged = pd.merge(df_merged,df_epa_emissions_by_source_TX.set_index(df_epa_emissions_by_source_TX.index.astype(int)),how='left',left_index=True, right_index=True)"
   ]
  },
  {
   "cell_type": "code",
   "execution_count": 29,
   "id": "10804b09-ec04-4dd2-89e8-7f8db9d6c22a",
   "metadata": {},
   "outputs": [
    {
     "data": {
      "text/html": [
       "<div>\n",
       "<style scoped>\n",
       "    .dataframe tbody tr th:only-of-type {\n",
       "        vertical-align: middle;\n",
       "    }\n",
       "\n",
       "    .dataframe tbody tr th {\n",
       "        vertical-align: top;\n",
       "    }\n",
       "\n",
       "    .dataframe thead th {\n",
       "        text-align: right;\n",
       "    }\n",
       "</style>\n",
       "<table border=\"1\" class=\"dataframe\">\n",
       "  <thead>\n",
       "    <tr style=\"text-align: right;\">\n",
       "      <th></th>\n",
       "      <th>total_cancer_risk_(per_million)</th>\n",
       "      <th>number_refineries</th>\n",
       "    </tr>\n",
       "    <tr>\n",
       "      <th>company</th>\n",
       "      <th></th>\n",
       "      <th></th>\n",
       "    </tr>\n",
       "  </thead>\n",
       "  <tbody>\n",
       "    <tr>\n",
       "      <th>EQUISTAR CHEMICALS LP</th>\n",
       "      <td>80</td>\n",
       "      <td>1</td>\n",
       "    </tr>\n",
       "    <tr>\n",
       "      <th>PETROMAX REFINING CO LLC</th>\n",
       "      <td>60</td>\n",
       "      <td>1</td>\n",
       "    </tr>\n",
       "    <tr>\n",
       "      <th>KINDER MORGAN CRUDE &amp; CONDENSATE</th>\n",
       "      <td>50</td>\n",
       "      <td>1</td>\n",
       "    </tr>\n",
       "    <tr>\n",
       "      <th>VALERO REFINING CO TEXAS LP</th>\n",
       "      <td>50</td>\n",
       "      <td>1</td>\n",
       "    </tr>\n",
       "    <tr>\n",
       "      <th>TOTAL PETROCHEMICALS &amp; REFINING USA</th>\n",
       "      <td>50</td>\n",
       "      <td>1</td>\n",
       "    </tr>\n",
       "    <tr>\n",
       "      <th>PASADENA REFINING SYSTEMS INC</th>\n",
       "      <td>50</td>\n",
       "      <td>1</td>\n",
       "    </tr>\n",
       "    <tr>\n",
       "      <th>PREMCOR REFINING GROUP INC</th>\n",
       "      <td>50</td>\n",
       "      <td>1</td>\n",
       "    </tr>\n",
       "    <tr>\n",
       "      <th>DEER PARK REFINING LTD PARTNERSHIP</th>\n",
       "      <td>50</td>\n",
       "      <td>1</td>\n",
       "    </tr>\n",
       "    <tr>\n",
       "      <th>WESTERN REFINING COMPANY LP</th>\n",
       "      <td>50</td>\n",
       "      <td>1</td>\n",
       "    </tr>\n",
       "    <tr>\n",
       "      <th>EXXONMOBIL REFINING &amp; SUPPLY CO</th>\n",
       "      <td>40</td>\n",
       "      <td>1</td>\n",
       "    </tr>\n",
       "    <tr>\n",
       "      <th>HOUSTON REFINING LP</th>\n",
       "      <td>40</td>\n",
       "      <td>1</td>\n",
       "    </tr>\n",
       "    <tr>\n",
       "      <th>SOUTH HAMPTON RESOURCES INC</th>\n",
       "      <td>30</td>\n",
       "      <td>1</td>\n",
       "    </tr>\n",
       "    <tr>\n",
       "      <th>MARATHON PETROLEUM CO LP, VALERO REFINING CO TEXAS LP, MARATHON PETROLEUM CO LP</th>\n",
       "      <td>30</td>\n",
       "      <td>3</td>\n",
       "    </tr>\n",
       "    <tr>\n",
       "      <th>CALUMET LUBRICANTS CO</th>\n",
       "      <td>30</td>\n",
       "      <td>1</td>\n",
       "    </tr>\n",
       "    <tr>\n",
       "      <th>No refineries</th>\n",
       "      <td>30</td>\n",
       "      <td>0</td>\n",
       "    </tr>\n",
       "    <tr>\n",
       "      <th>DELEK REFINING LTD</th>\n",
       "      <td>30</td>\n",
       "      <td>1</td>\n",
       "    </tr>\n",
       "    <tr>\n",
       "      <th>Motiva Enterprises LLC</th>\n",
       "      <td>30</td>\n",
       "      <td>1</td>\n",
       "    </tr>\n",
       "    <tr>\n",
       "      <th>VALERO ENERGY CORPORATION</th>\n",
       "      <td>20</td>\n",
       "      <td>1</td>\n",
       "    </tr>\n",
       "    <tr>\n",
       "      <th>ALON USA ENERGY INC</th>\n",
       "      <td>20</td>\n",
       "      <td>1</td>\n",
       "    </tr>\n",
       "    <tr>\n",
       "      <th>PHILLIPS 66 COMPANY</th>\n",
       "      <td>20</td>\n",
       "      <td>1</td>\n",
       "    </tr>\n",
       "    <tr>\n",
       "      <th>LAZARUS ENERGY LLC</th>\n",
       "      <td>20</td>\n",
       "      <td>1</td>\n",
       "    </tr>\n",
       "    <tr>\n",
       "      <th>Flint Hills Resources LP, VALERO REFINING CO TEXAS LP, BUCKEYE TEXAS PROCESSING LLC</th>\n",
       "      <td>20</td>\n",
       "      <td>3</td>\n",
       "    </tr>\n",
       "    <tr>\n",
       "      <th>CITGO REFINING &amp; CHEMICAL INC</th>\n",
       "      <td>20</td>\n",
       "      <td>1</td>\n",
       "    </tr>\n",
       "    <tr>\n",
       "      <th>WRB REFINING LP</th>\n",
       "      <td>20</td>\n",
       "      <td>1</td>\n",
       "    </tr>\n",
       "  </tbody>\n",
       "</table>\n",
       "</div>"
      ],
      "text/plain": [
       "                                                    total_cancer_risk_(per_million)  \\\n",
       "company                                                                               \n",
       "EQUISTAR CHEMICALS LP                                                            80   \n",
       "PETROMAX REFINING CO LLC                                                         60   \n",
       "KINDER MORGAN CRUDE & CONDENSATE                                                 50   \n",
       "VALERO REFINING CO TEXAS LP                                                      50   \n",
       "TOTAL PETROCHEMICALS & REFINING USA                                              50   \n",
       "PASADENA REFINING SYSTEMS INC                                                    50   \n",
       "PREMCOR REFINING GROUP INC                                                       50   \n",
       "DEER PARK REFINING LTD PARTNERSHIP                                               50   \n",
       "WESTERN REFINING COMPANY LP                                                      50   \n",
       "EXXONMOBIL REFINING & SUPPLY CO                                                  40   \n",
       "HOUSTON REFINING LP                                                              40   \n",
       "SOUTH HAMPTON RESOURCES INC                                                      30   \n",
       "MARATHON PETROLEUM CO LP, VALERO REFINING CO TE...                               30   \n",
       "CALUMET LUBRICANTS CO                                                            30   \n",
       "No refineries                                                                    30   \n",
       "DELEK REFINING LTD                                                               30   \n",
       "Motiva Enterprises LLC                                                           30   \n",
       "VALERO ENERGY CORPORATION                                                        20   \n",
       "ALON USA ENERGY INC                                                              20   \n",
       "PHILLIPS 66 COMPANY                                                              20   \n",
       "LAZARUS ENERGY LLC                                                               20   \n",
       "Flint Hills Resources LP, VALERO REFINING CO TE...                               20   \n",
       "CITGO REFINING & CHEMICAL INC                                                    20   \n",
       "WRB REFINING LP                                                                  20   \n",
       "\n",
       "                                                    number_refineries  \n",
       "company                                                                \n",
       "EQUISTAR CHEMICALS LP                                               1  \n",
       "PETROMAX REFINING CO LLC                                            1  \n",
       "KINDER MORGAN CRUDE & CONDENSATE                                    1  \n",
       "VALERO REFINING CO TEXAS LP                                         1  \n",
       "TOTAL PETROCHEMICALS & REFINING USA                                 1  \n",
       "PASADENA REFINING SYSTEMS INC                                       1  \n",
       "PREMCOR REFINING GROUP INC                                          1  \n",
       "DEER PARK REFINING LTD PARTNERSHIP                                  1  \n",
       "WESTERN REFINING COMPANY LP                                         1  \n",
       "EXXONMOBIL REFINING & SUPPLY CO                                     1  \n",
       "HOUSTON REFINING LP                                                 1  \n",
       "SOUTH HAMPTON RESOURCES INC                                         1  \n",
       "MARATHON PETROLEUM CO LP, VALERO REFINING CO TE...                  3  \n",
       "CALUMET LUBRICANTS CO                                               1  \n",
       "No refineries                                                       0  \n",
       "DELEK REFINING LTD                                                  1  \n",
       "Motiva Enterprises LLC                                              1  \n",
       "VALERO ENERGY CORPORATION                                           1  \n",
       "ALON USA ENERGY INC                                                 1  \n",
       "PHILLIPS 66 COMPANY                                                 1  \n",
       "LAZARUS ENERGY LLC                                                  1  \n",
       "Flint Hills Resources LP, VALERO REFINING CO TE...                  3  \n",
       "CITGO REFINING & CHEMICAL INC                                       1  \n",
       "WRB REFINING LP                                                     1  "
      ]
     },
     "execution_count": 29,
     "metadata": {},
     "output_type": "execute_result"
    }
   ],
   "source": [
    "df_merged.groupby('company')[['total_cancer_risk_(per_million)','number_refineries']].mean().astype(int).sort_values(by='total_cancer_risk_(per_million)',ascending=False)"
   ]
  },
  {
   "cell_type": "code",
   "execution_count": 30,
   "id": "f713a07f-32ad-42fc-8146-589742509e29",
   "metadata": {},
   "outputs": [],
   "source": [
    "# save to dataset\n",
    "df_merged.to_csv('../cleaned_datasets/combined_texas_refinery_risks_emissions.csv')"
   ]
  },
  {
   "cell_type": "markdown",
   "id": "b9324f90-ccc7-48c4-8b2f-6ca677dc58af",
   "metadata": {},
   "source": [
    "### Texas Health Data by Census Tract"
   ]
  },
  {
   "cell_type": "code",
   "execution_count": 31,
   "id": "6d927a37-dc5d-4081-b813-42df78aa3199",
   "metadata": {},
   "outputs": [],
   "source": [
    "# Read in data and drop unncessary columns\n",
    "df_health_data = pd.read_csv('../datasets/Texas_Health_Data.csv')\n",
    "\n",
    "df_health_data.drop(columns='Unnamed: 0', inplace=True)\n",
    "\n",
    "df_health_data.drop(\n",
    "    columns= ['StateDesc','CountyName', 'Category','Data_Value_Footnote',\n",
    "              'CategoryID', 'MeasureId','DataValueTypeID','Short_Question_Text', 'Data_Value_Footnote_Symbol'], inplace=True)\n"
   ]
  },
  {
   "cell_type": "code",
   "execution_count": 32,
   "id": "029edaf6-c570-4db3-aeef-1636e461aa81",
   "metadata": {},
   "outputs": [],
   "source": [
    "# Save cancer data to separate file\n",
    "df_cancer = df_health_data[df_health_data['Measure']=='Cancer (excluding skin cancer) among adults aged >=18 years']\n",
    "\n",
    "df_cancer.to_csv('../cleaned_datasets/cancer_rates.csv')"
   ]
  },
  {
   "cell_type": "code",
   "execution_count": 33,
   "id": "0fbee576-1a5a-4653-bef9-7a62620cb5ed",
   "metadata": {},
   "outputs": [],
   "source": [
    "# Save poor self-rated health data to separate file\n",
    "df_poor_health = df_health_data[df_health_data['Measure']=='Fair or poor self-rated health status among adults aged >=18 years']\n",
    "\n",
    "df_poor_health.to_csv('../cleaned_datasets/poor_health_rates.csv')"
   ]
  },
  {
   "cell_type": "markdown",
   "id": "179ed80b-7628-4370-b20c-7836e4a97afa",
   "metadata": {
    "tags": []
   },
   "source": [
    "### Toxic Release Inventory"
   ]
  },
  {
   "cell_type": "code",
   "execution_count": 34,
   "id": "84a337a5-29fd-49ac-a396-f7f0214441f0",
   "metadata": {},
   "outputs": [],
   "source": [
    "# Read in data, reduce size, rename columns, and eliminate duplicate facilities\n",
    "tri = pd.read_csv('../datasets/tri_2017_tx.csv')\n",
    "\n",
    "tri = tri[['4. FACILITY NAME','12. LATITUDE', '13. LONGITUDE','15. PARENT CO NAME','20. INDUSTRY SECTOR']]\n",
    "\n",
    "tri.columns = [x.split('. ')[1].lower().replace(' ','_') for x in tri.columns]\n",
    "\n",
    "tri = tri.drop_duplicates(subset=['facility_name'])"
   ]
  },
  {
   "cell_type": "code",
   "execution_count": 35,
   "id": "64ffe813-311a-44e7-96d1-9d9accbdbdf8",
   "metadata": {},
   "outputs": [],
   "source": [
    "# Obtain tract number\n",
    "tri_tract = []\n",
    "for facility in tri.index:\n",
    "    coords = tri.loc[facility,['latitude','longitude']]\n",
    "    tri_tract.append(coord_to_tract(coords[0],coords[1]))\n",
    "        "
   ]
  },
  {
   "cell_type": "code",
   "execution_count": 56,
   "id": "d32df2d2-2e51-476e-9d13-6eff56863cb6",
   "metadata": {},
   "outputs": [],
   "source": [
    "tri['tract'] = tri_tract"
   ]
  },
  {
   "cell_type": "code",
   "execution_count": 57,
   "id": "ec54c454-d328-4a6f-a584-0434531f9123",
   "metadata": {},
   "outputs": [],
   "source": [
    "# Reduce columns further\n",
    "tri = tri[['facility_name', 'industry_sector', 'tract']]"
   ]
  },
  {
   "cell_type": "code",
   "execution_count": 58,
   "id": "e7e03b12-ac5e-4fed-a226-5d58ab33fac4",
   "metadata": {},
   "outputs": [],
   "source": [
    "# Let's combine sites to 1 tract number and add a number of sites to each tract\n",
    "\n",
    "tri['number_facilities'] = 1\n",
    "\n",
    "\n",
    "# For the repeats, let's combine facility names, company names, and industry\n",
    "\n",
    "repeats = list(tri['tract'].value_counts().items())\n",
    "\n",
    "repeat_tracts = [x[0] for x in repeats if x[1] > 1]\n",
    "\n",
    "for i in repeat_tracts:\n",
    "    matches = tri[(tri['tract'] == i)]\n",
    "    facility_names = matches['facility_name'].str.cat(sep=', ')\n",
    "    industry_names = ', '.join(x for x in set(matches['industry_sector']))\n",
    "    tri.loc[matches.index[0],['facility_name','industry_sector','number_facilities']] = [facility_names, industry_names, matches.shape[0]]\n",
    "\n",
    "tri.drop_duplicates(subset='tract',inplace=True)\n",
    "\n",
    "tri.set_index('tract',inplace=True)"
   ]
  },
  {
   "cell_type": "code",
   "execution_count": 60,
   "id": "4064f92f-7e7e-4ae1-b775-64906435d150",
   "metadata": {},
   "outputs": [],
   "source": [
    "tri.to_csv('../cleaned_datasets/tri_2017_tx_cleaned.csv')"
   ]
  },
  {
   "cell_type": "markdown",
   "id": "2f4b9797-9bfe-4157-bae5-50abd58188a8",
   "metadata": {},
   "source": [
    "### ACS SNAP"
   ]
  },
  {
   "cell_type": "code",
   "execution_count": 61,
   "id": "a3a6b007-8452-47c3-87a0-a57737eb6756",
   "metadata": {
    "tags": []
   },
   "outputs": [],
   "source": [
    "with zipfile.ZipFile(\"../datasets/ACSST5Y2019.S1701_2022-05-06T144748.zip\",\"r\") as zip_ref:\n",
    "    zip_ref.extractall(\"../cleaned_datasets/ACSPoverty\")\n",
    "    \n",
    "with zipfile.ZipFile('../datasets/ACSST5Y2019.S2201_2022-05-06T144719.zip','r') as zip_r:\n",
    "    zip_r.extractall('../cleaned_datasets/ACSpovertySNAP')"
   ]
  },
  {
   "cell_type": "code",
   "execution_count": 62,
   "id": "6f2a3f31-4c6b-48dc-a8d1-35e0e2660144",
   "metadata": {},
   "outputs": [
    {
     "name": "stderr",
     "output_type": "stream",
     "text": [
      "/var/folders/0z/k5klxhhj5j9g8hc5ygn0nwsr0000gn/T/ipykernel_12720/3769334036.py:2: DtypeWarning: Columns (2,3,4,5,6,7,8,9,10,11,12,13,14,15,16,17,18,19,20,21,22,23,24,25,26,27,28,29,30,31,32,33,34,35,36,37,38,39,40,41,42,43,44,45,46,47,48,49,50,51,52,53,54,55,56,57,58,59,60,61,62,63,64,65,66,67,70,71,72,73,74,75,76,77,154,155,156,157,158,159,160,161,162,163,164,165,166,167,168,169,170,171,172,173,174,175,176,177,178,179,180,181,182,183,184,185,186,187,188,189,190,191,192,193,194,195,196,197,198,199,200,201,202,203,204,205,206,207,208,209,210,211,212,213,214,215,216,217,218,219,222,223,224,225,226,227,228,229,306,307,308,309,310,311,312,313,314,315,316,317,318,319,320,321,322,323,324,325,326,327,328,329,330,331,332,333,334,335,336,337,338,339,340,341,342,343,344,345,346,347,348,349,350,351,352,353,354,355,356,357,358,359,360,361,362,363,364,365,366,367,368,369,370,371,374,375,376,377,378,379,380,381) have mixed types. Specify dtype option on import or set low_memory=False.\n",
      "  df_snap = pd.read_csv('../cleaned_datasets/ACSpovertySNAP/ACSST5Y2019.S2201_data_with_overlays_2022-05-06T144356.csv')\n"
     ]
    }
   ],
   "source": [
    "# Read in data\n",
    "df_snap = pd.read_csv('../cleaned_datasets/ACSpovertySNAP/ACSST5Y2019.S2201_data_with_overlays_2022-05-06T144356.csv')\n",
    "\n",
    "df_metasnap = pd.read_csv('../cleaned_datasets/ACSpovertySNAP/ACSST5Y2019.S2201_metadata_2022-05-06T144356.csv')"
   ]
  },
  {
   "cell_type": "code",
   "execution_count": 63,
   "id": "2ccf1056-7c85-4a48-8224-e7e1c0aa0181",
   "metadata": {},
   "outputs": [],
   "source": [
    "df_snapped = df_snap.loc[:,~df_snap.columns.str.endswith('M')] #no margin of errors!"
   ]
  },
  {
   "cell_type": "code",
   "execution_count": 64,
   "id": "8ad1822c-66e5-4fb4-ad2e-e030399e1898",
   "metadata": {},
   "outputs": [
    {
     "name": "stderr",
     "output_type": "stream",
     "text": [
      "/var/folders/0z/k5klxhhj5j9g8hc5ygn0nwsr0000gn/T/ipykernel_12720/4008989000.py:7: SettingWithCopyWarning: \n",
      "A value is trying to be set on a copy of a slice from a DataFrame\n",
      "\n",
      "See the caveats in the documentation: https://pandas.pydata.org/pandas-docs/stable/user_guide/indexing.html#returning-a-view-versus-a-copy\n",
      "  df_snapped.rename(columns=snap_dict,inplace=True)\n"
     ]
    }
   ],
   "source": [
    "# Rename columns with metadata\n",
    "snap_dict = {df_metasnap.iloc[i,0]:df_metasnap.iloc[i,1] for i in list(range(len(df_metasnap.iloc[:,0])))}\n",
    "\n",
    "snap_dict['GEO_ID'] = 'id' #the header, can't take that along, \n",
    "# could change that in the reading phase, but this should be fine\n",
    "\n",
    "df_snapped.rename(columns=snap_dict,inplace=True)"
   ]
  },
  {
   "cell_type": "code",
   "execution_count": 65,
   "id": "3230c65c-0102-435a-8181-b119d95f35ae",
   "metadata": {},
   "outputs": [],
   "source": [
    "# Filter Texas only data and reduce columns\n",
    "df_snaptexas = df_snapped[df_snapped['Geographic Area Name'].str.endswith('Texas')]\n",
    "\n",
    "df_snaptxshort = df_snaptexas[['id','Geographic Area Name','Estimate!!Total!!Households',\n",
    "                               'Estimate!!Total!!Households!!POVERTY STATUS IN THE PAST 12 MONTHS!!Below poverty level',\n",
    "                              'Estimate!!Households receiving food stamps/SNAP!!Households',\n",
    "                              'Estimate!!Percent!!WORK STATUS!!Families!!No workers in past 12 months'\n",
    "                              ]]\n",
    "\n",
    "df_snaptxshort.set_axis(axis=1,labels=['id','geoid','households','below_poverty','hh_snap','hh_nowork'],inplace=True)"
   ]
  },
  {
   "cell_type": "code",
   "execution_count": 66,
   "id": "a868d10e-6c5a-4042-9d6e-8b26bfb3e2cb",
   "metadata": {},
   "outputs": [
    {
     "name": "stderr",
     "output_type": "stream",
     "text": [
      "/var/folders/0z/k5klxhhj5j9g8hc5ygn0nwsr0000gn/T/ipykernel_12720/620470002.py:2: SettingWithCopyWarning: \n",
      "A value is trying to be set on a copy of a slice from a DataFrame.\n",
      "Try using .loc[row_indexer,col_indexer] = value instead\n",
      "\n",
      "See the caveats in the documentation: https://pandas.pydata.org/pandas-docs/stable/user_guide/indexing.html#returning-a-view-versus-a-copy\n",
      "  df_snaptxshort['id']= [y for x,y in df_snaptxshort['id'].str.split('US')]\n"
     ]
    }
   ],
   "source": [
    "# Obtain tract num\n",
    "df_snaptxshort['id']= [y for x,y in df_snaptxshort['id'].str.split('US')]"
   ]
  },
  {
   "cell_type": "code",
   "execution_count": 67,
   "id": "9f4b0387-b369-4c33-8760-db183fdeb1b1",
   "metadata": {},
   "outputs": [],
   "source": [
    "# Save to csv\n",
    "df_snaptxshort.to_csv('../cleaned_datasets/SNAPinfoTX.csv',index=False)"
   ]
  },
  {
   "cell_type": "markdown",
   "id": "1c49d4f4-6320-4185-a460-803c938eac24",
   "metadata": {},
   "source": [
    "### ACS Poverty"
   ]
  },
  {
   "cell_type": "code",
   "execution_count": 68,
   "id": "4dbf6713-0975-40f9-9f61-7a9eabd4ee54",
   "metadata": {},
   "outputs": [
    {
     "name": "stderr",
     "output_type": "stream",
     "text": [
      "/var/folders/0z/k5klxhhj5j9g8hc5ygn0nwsr0000gn/T/ipykernel_12720/3462979621.py:2: DtypeWarning: Columns (2,3,4,5,6,7,8,9,10,11,12,13,14,15,16,17,18,19,20,21,22,23,24,25,26,27,28,29,30,31,32,33,34,35,36,37,38,39,40,41,42,43,44,45,46,47,48,49,50,51,52,53,54,55,56,57,58,59,60,61,62,63,64,65,66,67,68,69,70,71,72,73,74,75,76,77,78,79,80,81,82,83,84,85,86,87,88,89,90,91,92,93,94,95,96,97,98,99,100,101,102,103,104,105,106,107,108,109,110,111,112,113,114,115,118,119,120,121,122,123,124,125,126,127,128,129,130,131,132,133,134,135,136,137,138,139,140,141,142,143,144,145,146,147,148,149,150,151,152,153,154,155,156,157,158,159,160,161,162,163,164,165,166,167,168,169,170,171,172,173,174,175,176,177,178,179,180,181,182,183,184,185,186,187,188,189,190,191,192,193,194,195,196,197,214,215,216,217,218,219,220,221,222,223,224,225,226,227,228,229,230,231,232,233,234,235,236,237,240,241,242,243,244,245) have mixed types. Specify dtype option on import or set low_memory=False.\n",
      "  df_pov = pd.read_csv('../cleaned_datasets/ACSPoverty/ACSST5Y2019.S1701_data_with_overlays_2022-05-06T144518.csv')\n"
     ]
    }
   ],
   "source": [
    "# Read in data\n",
    "df_pov = pd.read_csv('../cleaned_datasets/ACSPoverty/ACSST5Y2019.S1701_data_with_overlays_2022-05-06T144518.csv')\n",
    "\n",
    "df_metapov = pd.read_csv('../cleaned_datasets/ACSPoverty/ACSST5Y2019.S1701_metadata_2022-05-06T144518.csv')"
   ]
  },
  {
   "cell_type": "code",
   "execution_count": 69,
   "id": "8d0c1ac6-34b4-4b9a-a8be-e5f45c66345b",
   "metadata": {},
   "outputs": [],
   "source": [
    "# Filter Texas only\n",
    "df_povtexas = df_pov[df_pov['NAME'].str.endswith('Texas')]"
   ]
  },
  {
   "cell_type": "code",
   "execution_count": 70,
   "id": "8d998554-597c-4262-8e71-f3b2718ddaa4",
   "metadata": {},
   "outputs": [],
   "source": [
    "df_pov = df_pov.loc[:,~df_pov.columns.str.endswith('M')]"
   ]
  },
  {
   "cell_type": "code",
   "execution_count": 71,
   "id": "1288fe8b-d5c6-4dea-8458-2b523f5db9e4",
   "metadata": {},
   "outputs": [],
   "source": [
    "# Rename columns with metadata\n",
    "pov_dict = {df_metapov.iloc[i,0]:df_metapov.iloc[i,1] for i in list(range(len(df_metapov.iloc[:,0])))}\n",
    "\n",
    "pov_dict['GEO_ID']= 'id'\n",
    "\n",
    "df_povtexas.rename(columns=pov_dict,inplace=True)"
   ]
  },
  {
   "cell_type": "code",
   "execution_count": 72,
   "id": "aaccbca2-000f-4e3c-921b-bb27e7cdfca1",
   "metadata": {},
   "outputs": [],
   "source": [
    "# Reduce columns\n",
    "df_povtxshort = df_povtexas[['id','Geographic Area Name',\n",
    "                            'Estimate!!Total!!Population for whom poverty status is determined',\n",
    "                            'Estimate!!Total!!Population for whom poverty status is determined!!ALL INDIVIDUALS WITH INCOME BELOW THE FOLLOWING POVERTY RATIOS!!50 percent of poverty level',\n",
    "                            'Estimate!!Total!!Population for whom poverty status is determined!!ALL INDIVIDUALS WITH INCOME BELOW THE FOLLOWING POVERTY RATIOS!!125 percent of poverty level',\n",
    "                            'Estimate!!Total!!Population for whom poverty status is determined!!ALL INDIVIDUALS WITH INCOME BELOW THE FOLLOWING POVERTY RATIOS!!150 percent of poverty level',\n",
    "                            'Estimate!!Total!!Population for whom poverty status is determined!!ALL INDIVIDUALS WITH INCOME BELOW THE FOLLOWING POVERTY RATIOS!!185 percent of poverty level',\n",
    "                            'Estimate!!Total!!Population for whom poverty status is determined!!ALL INDIVIDUALS WITH INCOME BELOW THE FOLLOWING POVERTY RATIOS!!200 percent of poverty level',\n",
    "                            'Estimate!!Total!!Population for whom poverty status is determined!!ALL INDIVIDUALS WITH INCOME BELOW THE FOLLOWING POVERTY RATIOS!!300 percent of poverty level',\n",
    "                            'Estimate!!Total!!Population for whom poverty status is determined!!ALL INDIVIDUALS WITH INCOME BELOW THE FOLLOWING POVERTY RATIOS!!400 percent of poverty level',\n",
    "                            'Estimate!!Total!!Population for whom poverty status is determined!!ALL INDIVIDUALS WITH INCOME BELOW THE FOLLOWING POVERTY RATIOS!!500 percent of poverty level']]\n",
    "\n",
    "df_povtxshort.set_axis(axis=1,labels=['id','geoid','population','below50pov','below125pov','below150pov','below185pov','below200pov',\n",
    "                                     'below300pov','below400pov','below500pov'],inplace=True)\n",
    "\n",
    "\n",
    "\n",
    "\n",
    "\n",
    "\n"
   ]
  },
  {
   "cell_type": "code",
   "execution_count": 73,
   "id": "581e1654-3bb4-4a05-97d3-53b362889e68",
   "metadata": {},
   "outputs": [
    {
     "name": "stderr",
     "output_type": "stream",
     "text": [
      "/var/folders/0z/k5klxhhj5j9g8hc5ygn0nwsr0000gn/T/ipykernel_12720/359515212.py:2: SettingWithCopyWarning: \n",
      "A value is trying to be set on a copy of a slice from a DataFrame.\n",
      "Try using .loc[row_indexer,col_indexer] = value instead\n",
      "\n",
      "See the caveats in the documentation: https://pandas.pydata.org/pandas-docs/stable/user_guide/indexing.html#returning-a-view-versus-a-copy\n",
      "  df_povtxshort['id']= [y for x,y in df_povtxshort['id'].str.split('US')]\n"
     ]
    }
   ],
   "source": [
    "# Obtain tract num\n",
    "df_povtxshort['id']= [y for x,y in df_povtxshort['id'].str.split('US')]"
   ]
  },
  {
   "cell_type": "code",
   "execution_count": 74,
   "id": "c8fb2157-2341-402e-8335-c37b1c513fa4",
   "metadata": {},
   "outputs": [],
   "source": [
    "# Save to csv\n",
    "df_povtxshort.to_csv('../cleaned_datasets/PovertyinfoTX.csv',index=False)"
   ]
  }
 ],
 "metadata": {
  "kernelspec": {
   "display_name": "Python 3 (ipykernel)",
   "language": "python",
   "name": "python3"
  },
  "language_info": {
   "codemirror_mode": {
    "name": "ipython",
    "version": 3
   },
   "file_extension": ".py",
   "mimetype": "text/x-python",
   "name": "python",
   "nbconvert_exporter": "python",
   "pygments_lexer": "ipython3",
   "version": "3.9.12"
  }
 },
 "nbformat": 4,
 "nbformat_minor": 5
}
