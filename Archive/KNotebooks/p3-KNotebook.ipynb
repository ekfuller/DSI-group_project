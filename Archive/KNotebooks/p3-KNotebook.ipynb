{
 "cells": [
  {
   "cell_type": "code",
   "execution_count": 1,
   "id": "834a84c2-67a6-4392-83f3-77a2d81a1ef6",
   "metadata": {},
   "outputs": [],
   "source": [
    "import geopandas as gpd\n",
    "import pandas as pd\n",
    "import matplotlib.pyplot as plt\n",
    "import os"
   ]
  },
  {
   "cell_type": "code",
   "execution_count": 2,
   "id": "06ce0869-0dbd-4dfe-9de8-f7d35c461fd5",
   "metadata": {},
   "outputs": [],
   "source": [
    "df_tx = gpd.read_file('../cleaned_datasets/all_plus_facilities/all_plus_facilities.shp')"
   ]
  },
  {
   "cell_type": "code",
   "execution_count": 3,
   "id": "5bed9a81-7c0a-4ddd-87ba-874f549008d7",
   "metadata": {},
   "outputs": [
    {
     "data": {
      "text/plain": [
       "Index(['tract_num', 'company', 'corp', 'num_refine', 'county', 'respir_hi',\n",
       "       'neurol_hi', 'develop_hi', 'reprodu_hi', 'kidney_hi', 'immuno_hi',\n",
       "       'tot_bod_hi', 'total_r/m', 'ptstat_r/m', 'benzen_r/m', 'coke_r/m',\n",
       "       'butadi_r/m', 'benzene_t', 'toluene_t', 'eth_benz_t', 'xylenes_t',\n",
       "       'diesel_t', 'trimeth_t', 'coke_t', 'butadien_t', 'county_num',\n",
       "       'cancer_%', 'cancer_%_l', 'cancer_%_h', 'total_pop', 'geo_loc', 'mtfcc',\n",
       "       'aland', 'awater', 'intptlat', 'intptlon', 'households', 'below_pove',\n",
       "       'hh_snap', 'hh_nowork', 'tract_name', 'below50pov', 'below125po',\n",
       "       'below150po', 'below185po', 'below200po', 'below300po', 'below400po',\n",
       "       'below500po', 'facility_n', 'industry_s', 'number_fac', 'geometry'],\n",
       "      dtype='object')"
      ]
     },
     "execution_count": 3,
     "metadata": {},
     "output_type": "execute_result"
    }
   ],
   "source": [
    "df_tx.columns"
   ]
  },
  {
   "cell_type": "code",
   "execution_count": 14,
   "id": "748331e5-2586-43b9-8b83-856fbc67ec74",
   "metadata": {},
   "outputs": [],
   "source": [
    "weightavept = (df_tx['ptstat_r/m']*df_tx['total_pop']).sum()/(df_tx['total_pop'].sum())"
   ]
  },
  {
   "cell_type": "code",
   "execution_count": 23,
   "id": "6dff959e-d370-49cb-aec1-29275b18c8a6",
   "metadata": {},
   "outputs": [
    {
     "data": {
      "text/plain": [
       "(4.076782082103722, 4.20685538239647)"
      ]
     },
     "execution_count": 23,
     "metadata": {},
     "output_type": "execute_result"
    }
   ],
   "source": [
    "df_tx['ptstat_r/m'].mean(), weightavept #not that different"
   ]
  },
  {
   "cell_type": "code",
   "execution_count": 24,
   "id": "ae387ff4-5758-43d9-89b9-6a7e904bcf32",
   "metadata": {},
   "outputs": [
    {
     "data": {
      "text/plain": [
       "0       0.090393\n",
       "1       0.031572\n",
       "2       0.098055\n",
       "3       0.034675\n",
       "4       0.035697\n",
       "          ...   \n",
       "5233    0.011362\n",
       "5234    0.008545\n",
       "5235    0.001694\n",
       "5236    0.005665\n",
       "5237    0.005983\n",
       "Name: ptstat_r/m, Length: 5238, dtype: float64"
      ]
     },
     "execution_count": 24,
     "metadata": {},
     "output_type": "execute_result"
    }
   ],
   "source": [
    "df_tx['ptstat_r/m']/weightavept"
   ]
  },
  {
   "cell_type": "code",
   "execution_count": 34,
   "id": "b8e281df-739b-4603-a4fa-431563cf0e5d",
   "metadata": {},
   "outputs": [],
   "source": [
    "df_tx['weighted_multiple'] = df_tx['ptstat_r/m']/weightavept"
   ]
  },
  {
   "cell_type": "code",
   "execution_count": 33,
   "id": "44ae4c95-5dd6-4ef2-b1f6-27a95e259aab",
   "metadata": {},
   "outputs": [
    {
     "data": {
      "image/png": "[encoded data removed]",
      "text/plain": [
       "<Figure size 432x288 with 1 Axes>"
      ]
     },
     "metadata": {
      "needs_background": "light"
     },
     "output_type": "display_data"
    }
   ],
   "source": [
    "sns.histplot(df_tx['ptstat_r/m']/weightavept,stat='probability')\n",
    "plt.xlim([0,10]);"
   ]
  },
  {
   "cell_type": "code",
   "execution_count": 37,
   "id": "ee6aa9cb-215f-49b2-b9a2-2244baffc9bb",
   "metadata": {},
   "outputs": [
    {
     "name": "stderr",
     "output_type": "stream",
     "text": [
      "C:\\Users\\Karthik\\AppData\\Local\\Temp\\ipykernel_252\\2535974196.py:1: UserWarning: Column names longer than 10 characters will be truncated when saved to ESRI Shapefile.\n",
      "  df_tx.to_file('../cleaned_datasets/all_plus_facilities/all_plus_facilities.shp',index=False)\n"
     ]
    }
   ],
   "source": [
    "df_tx.to_file('../cleaned_datasets/all_plus_facilities/all_plus_facilities.shp',index=False)"
   ]
  },
  {
   "cell_type": "code",
   "execution_count": 39,
   "id": "c1956ebf-9a6b-4368-ad19-e75080a3575a",
   "metadata": {},
   "outputs": [
    {
     "data": {
      "text/plain": [
       "0.9690806342340557"
      ]
     },
     "execution_count": 39,
     "metadata": {},
     "output_type": "execute_result"
    }
   ],
   "source": [
    "df_tx['weighted_multiple'].mean() #about what you would expect if this is norming on on the average exposure-> the reason it's not \n",
    "#*perfectly* 1 is because it's weighted, and undoing that would require slightly different calculations. But this is just a sanity check"
   ]
  },
  {
   "cell_type": "code",
   "execution_count": null,
   "id": "309410ab-1729-467b-84b9-2676000add04",
   "metadata": {},
   "outputs": [],
   "source": []
  }
 ],
 "metadata": {
  "kernelspec": {
   "display_name": "Python 3 (ipykernel)",
   "language": "python",
   "name": "python3"
  },
  "language_info": {
   "codemirror_mode": {
    "name": "ipython",
    "version": 3
   },
   "file_extension": ".py",
   "mimetype": "text/x-python",
   "name": "python",
   "nbconvert_exporter": "python",
   "pygments_lexer": "ipython3",
   "version": "3.9.12"
  }
 },
 "nbformat": 4,
 "nbformat_minor": 5
}
