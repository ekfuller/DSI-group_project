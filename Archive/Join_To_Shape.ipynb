{
 "cells": [
  {
   "cell_type": "markdown",
   "id": "cb58dd15-5263-4ee4-8ab0-2e6cd5ffb27d",
   "metadata": {
    "tags": []
   },
   "source": [
    "# The purpose of this notebook is to combine our variety of data into a single file"
   ]
  },
  {
   "cell_type": "code",
   "execution_count": 1,
   "id": "88c95622-edf4-40d9-9db2-90afd25db05c",
   "metadata": {},
   "outputs": [],
   "source": [
    "import pandas as pd\n",
    "import geopandas as gpd"
   ]
  },
  {
   "cell_type": "markdown",
   "id": "eba114b3-fd5d-48bc-a4b1-477ab45a0fc4",
   "metadata": {},
   "source": [
    "## Read in datasets"
   ]
  },
  {
   "cell_type": "code",
   "execution_count": 2,
   "id": "af0d997f-049f-470a-8518-2eb9dcde2eb0",
   "metadata": {},
   "outputs": [],
   "source": [
    "shape_df = gpd.read_file('./cleaned_datasets/joined_txshp/tx_shp_mod.shp')\n",
    "\n",
    "cancer_df = pd.read_csv('./cleaned_datasets/cancer_rates.csv')\n",
    "\n",
    "refinery_df = pd.read_csv('./cleaned_datasets/combined_texas_refinery_risks_emissions.csv')"
   ]
  },
  {
   "cell_type": "markdown",
   "id": "951160a5-6811-4b0f-a4f6-3c2d57c56416",
   "metadata": {
    "tags": []
   },
   "source": [
    "## Clean up column names\n",
    "\n",
    "- limited to 10 characters\n",
    "- drop unnecessary columns from individual files"
   ]
  },
  {
   "cell_type": "code",
   "execution_count": 3,
   "id": "28051ed5-28fc-4f14-bcb2-b17e14689a60",
   "metadata": {},
   "outputs": [
    {
     "data": {
      "text/plain": [
       "Index(['Unnamed: 0', 'Year', 'StateAbbr', 'CountyFIPS', 'LocationName',\n",
       "       'DataSource', 'Measure', 'Data_Value_Unit', 'Data_Value_Type',\n",
       "       'Data_Value', 'Low_Confidence_Limit', 'High_Confidence_Limit',\n",
       "       'TotalPopulation', 'Geolocation', 'LocationID'],\n",
       "      dtype='object')"
      ]
     },
     "execution_count": 3,
     "metadata": {},
     "output_type": "execute_result"
    }
   ],
   "source": [
    "cancer_df.columns"
   ]
  },
  {
   "cell_type": "code",
   "execution_count": 4,
   "id": "896fc96d-74d2-4bdf-979a-4d1fbd936431",
   "metadata": {},
   "outputs": [
    {
     "data": {
      "text/html": [
       "<div>\n",
       "<style scoped>\n",
       "    .dataframe tbody tr th:only-of-type {\n",
       "        vertical-align: middle;\n",
       "    }\n",
       "\n",
       "    .dataframe tbody tr th {\n",
       "        vertical-align: top;\n",
       "    }\n",
       "\n",
       "    .dataframe thead th {\n",
       "        text-align: right;\n",
       "    }\n",
       "</style>\n",
       "<table border=\"1\" class=\"dataframe\">\n",
       "  <thead>\n",
       "    <tr style=\"text-align: right;\">\n",
       "      <th></th>\n",
       "      <th>county_num</th>\n",
       "      <th>tract_num</th>\n",
       "      <th>cancer_%</th>\n",
       "      <th>cancer_%_l</th>\n",
       "      <th>cancer_%_h</th>\n",
       "      <th>total_pop</th>\n",
       "      <th>geo_loc</th>\n",
       "    </tr>\n",
       "  </thead>\n",
       "  <tbody>\n",
       "    <tr>\n",
       "      <th>0</th>\n",
       "      <td>48005</td>\n",
       "      <td>48005000102</td>\n",
       "      <td>6.5</td>\n",
       "      <td>6.3</td>\n",
       "      <td>6.7</td>\n",
       "      <td>4447</td>\n",
       "      <td>POINT (-94.87095395 31.32711676)</td>\n",
       "    </tr>\n",
       "  </tbody>\n",
       "</table>\n",
       "</div>"
      ],
      "text/plain": [
       "   county_num    tract_num  cancer_%  cancer_%_l  cancer_%_h  total_pop  \\\n",
       "0       48005  48005000102       6.5         6.3         6.7       4447   \n",
       "\n",
       "                            geo_loc  \n",
       "0  POINT (-94.87095395 31.32711676)  "
      ]
     },
     "execution_count": 4,
     "metadata": {},
     "output_type": "execute_result"
    }
   ],
   "source": [
    "cancer_df.columns = ['drop_1','drop_2','drop_3','county_num','tract_num','drop_4','drop_5','drop_6','drop_7','cancer_%','cancer_%_l','cancer_%_h','total_pop','geo_loc','drop_8']\n",
    "\n",
    "cancer_df.drop(columns=['drop_1', 'drop_2', 'drop_3', 'drop_4', 'drop_5', 'drop_6', 'drop_7', 'drop_8'], inplace=True)\n",
    "\n",
    "cancer_df.head(1)"
   ]
  },
  {
   "cell_type": "code",
   "execution_count": 5,
   "id": "ba1d81d8-a769-48ea-9d47-92e71fed2ae9",
   "metadata": {},
   "outputs": [
    {
     "data": {
      "text/plain": [
       "Index(['statefp', 'countyfp', 'tractce', 'geoid', 'name', 'namelsad', 'mtfcc',\n",
       "       'funcstat', 'aland', 'awater', 'intptlat', 'intptlon', 'households',\n",
       "       'below_pove', 'hh_snap', 'hh_nowork', 'tract_name', 'population',\n",
       "       'below50pov', 'below125po', 'below150po', 'below185po', 'below200po',\n",
       "       'below300po', 'below400po', 'below500po', 'geometry'],\n",
       "      dtype='object')"
      ]
     },
     "execution_count": 5,
     "metadata": {},
     "output_type": "execute_result"
    }
   ],
   "source": [
    "shape_df.columns"
   ]
  },
  {
   "cell_type": "code",
   "execution_count": 6,
   "id": "68903565-133f-4c79-9404-8e012ff68ce1",
   "metadata": {},
   "outputs": [
    {
     "data": {
      "text/html": [
       "<div>\n",
       "<style scoped>\n",
       "    .dataframe tbody tr th:only-of-type {\n",
       "        vertical-align: middle;\n",
       "    }\n",
       "\n",
       "    .dataframe tbody tr th {\n",
       "        vertical-align: top;\n",
       "    }\n",
       "\n",
       "    .dataframe thead th {\n",
       "        text-align: right;\n",
       "    }\n",
       "</style>\n",
       "<table border=\"1\" class=\"dataframe\">\n",
       "  <thead>\n",
       "    <tr style=\"text-align: right;\">\n",
       "      <th></th>\n",
       "      <th>tract_num</th>\n",
       "      <th>mtfcc</th>\n",
       "      <th>aland</th>\n",
       "      <th>awater</th>\n",
       "      <th>intptlat</th>\n",
       "      <th>intptlon</th>\n",
       "      <th>households</th>\n",
       "      <th>below_pove</th>\n",
       "      <th>hh_snap</th>\n",
       "      <th>hh_nowork</th>\n",
       "      <th>tract_name</th>\n",
       "      <th>below50pov</th>\n",
       "      <th>below125po</th>\n",
       "      <th>below150po</th>\n",
       "      <th>below185po</th>\n",
       "      <th>below200po</th>\n",
       "      <th>below300po</th>\n",
       "      <th>below400po</th>\n",
       "      <th>below500po</th>\n",
       "      <th>geometry</th>\n",
       "    </tr>\n",
       "  </thead>\n",
       "  <tbody>\n",
       "    <tr>\n",
       "      <th>0</th>\n",
       "      <td>48201542301</td>\n",
       "      <td>G5020</td>\n",
       "      <td>5956733</td>\n",
       "      <td>15456</td>\n",
       "      <td>+29.8204990</td>\n",
       "      <td>-095.7316493</td>\n",
       "      <td>4081</td>\n",
       "      <td>152</td>\n",
       "      <td>181</td>\n",
       "      <td>2.5</td>\n",
       "      <td>Census Tract 5423.01, Harris County, Texas</td>\n",
       "      <td>265</td>\n",
       "      <td>1299</td>\n",
       "      <td>1952</td>\n",
       "      <td>3181</td>\n",
       "      <td>3696</td>\n",
       "      <td>6695</td>\n",
       "      <td>9614</td>\n",
       "      <td>11731</td>\n",
       "      <td>POLYGON ((-95.75224 29.83169, -95.75104 29.831...</td>\n",
       "    </tr>\n",
       "  </tbody>\n",
       "</table>\n",
       "</div>"
      ],
      "text/plain": [
       "     tract_num  mtfcc    aland  awater     intptlat      intptlon  households  \\\n",
       "0  48201542301  G5020  5956733   15456  +29.8204990  -095.7316493        4081   \n",
       "\n",
       "   below_pove  hh_snap hh_nowork                                  tract_name  \\\n",
       "0         152      181       2.5  Census Tract 5423.01, Harris County, Texas   \n",
       "\n",
       "   below50pov  below125po  below150po  below185po  below200po  below300po  \\\n",
       "0         265        1299        1952        3181        3696        6695   \n",
       "\n",
       "   below400po  below500po                                           geometry  \n",
       "0        9614       11731  POLYGON ((-95.75224 29.83169, -95.75104 29.831...  "
      ]
     },
     "execution_count": 6,
     "metadata": {},
     "output_type": "execute_result"
    }
   ],
   "source": [
    "shape_df.columns = ['drop_1', 'drop_2', 'drop_3', 'tract_num', 'drop_4', 'drop_5', 'mtfcc',\n",
    "       'drop_6', 'aland', 'awater', 'intptlat', 'intptlon', 'households',\n",
    "       'below_pove', 'hh_snap', 'hh_nowork', 'tract_name', 'drop_7',\n",
    "       'below50pov', 'below125po', 'below150po', 'below185po', 'below200po',\n",
    "       'below300po', 'below400po', 'below500po', 'geometry']\n",
    "\n",
    "shape_df.drop(columns=['drop_1', 'drop_2', 'drop_3', 'drop_4', 'drop_5', 'drop_6', 'drop_7'], inplace=True)\n",
    "\n",
    "shape_df.head(1)"
   ]
  },
  {
   "cell_type": "code",
   "execution_count": 7,
   "id": "5e9e01fd-0385-43b6-8b91-5850772a58ec",
   "metadata": {},
   "outputs": [
    {
     "data": {
      "text/plain": [
       "Index(['tract', 'company', 'corp', 'number_refineries', 'county', 'population',\n",
       "       'respiratory_hi', 'neurological_hi', 'developmental_hi',\n",
       "       'reproductive_hi', 'kidney_hi', 'immunological_hi', 'whole_body_hi',\n",
       "       'total_cancer_risk_(per_million)',\n",
       "       'pt-stationarypoint_cancer_risk_(per_million)',\n",
       "       'benzene_cancer_risk_(per_million)',\n",
       "       'coke_oven_emissions_cancer_risk_(per_million)',\n",
       "       '1,3-butadiene_cancer_risk_(per_million)', 'benzene_(year_2017_tons)',\n",
       "       'toluene_(year_2017_tons)', 'ethyl_benzene_(year_2017_tons)',\n",
       "       'xylenes_(mixed_isomers)_(year_2017_tons)',\n",
       "       'diesel_pm_(year_2017_tons)', '2,2,4-trimethylpentane_(year_2017_tons)',\n",
       "       'coke_oven_emissions_(year_2017_tons)',\n",
       "       '1,3-butadiene_(year_2017_tons)'],\n",
       "      dtype='object')"
      ]
     },
     "execution_count": 7,
     "metadata": {},
     "output_type": "execute_result"
    }
   ],
   "source": [
    "refinery_df.columns"
   ]
  },
  {
   "cell_type": "code",
   "execution_count": 8,
   "id": "26b58502-f5b3-4814-bc2e-008130c23a17",
   "metadata": {},
   "outputs": [
    {
     "data": {
      "text/html": [
       "<div>\n",
       "<style scoped>\n",
       "    .dataframe tbody tr th:only-of-type {\n",
       "        vertical-align: middle;\n",
       "    }\n",
       "\n",
       "    .dataframe tbody tr th {\n",
       "        vertical-align: top;\n",
       "    }\n",
       "\n",
       "    .dataframe thead th {\n",
       "        text-align: right;\n",
       "    }\n",
       "</style>\n",
       "<table border=\"1\" class=\"dataframe\">\n",
       "  <thead>\n",
       "    <tr style=\"text-align: right;\">\n",
       "      <th></th>\n",
       "      <th>tract_num</th>\n",
       "      <th>company</th>\n",
       "      <th>corp</th>\n",
       "      <th>num_refine</th>\n",
       "      <th>county</th>\n",
       "      <th>respir_hi</th>\n",
       "      <th>neurol_hi</th>\n",
       "      <th>develop_hi</th>\n",
       "      <th>reprodu_hi</th>\n",
       "      <th>kidney_hi</th>\n",
       "      <th>...</th>\n",
       "      <th>coke_r/m</th>\n",
       "      <th>butadi_r/m</th>\n",
       "      <th>benzene_t</th>\n",
       "      <th>toluene_t</th>\n",
       "      <th>eth_benz_t</th>\n",
       "      <th>xylenes_t</th>\n",
       "      <th>diesel_t</th>\n",
       "      <th>trimeth_t</th>\n",
       "      <th>coke_t</th>\n",
       "      <th>butadien_t</th>\n",
       "    </tr>\n",
       "  </thead>\n",
       "  <tbody>\n",
       "    <tr>\n",
       "      <th>0</th>\n",
       "      <td>48000000000</td>\n",
       "      <td>No refineries</td>\n",
       "      <td>No refineries</td>\n",
       "      <td>0.0</td>\n",
       "      <td>Entire State</td>\n",
       "      <td>0.4</td>\n",
       "      <td>0.03</td>\n",
       "      <td>0.03</td>\n",
       "      <td>0.03</td>\n",
       "      <td>0.008</td>\n",
       "      <td>...</td>\n",
       "      <td>0.0</td>\n",
       "      <td>0.480044</td>\n",
       "      <td>NaN</td>\n",
       "      <td>NaN</td>\n",
       "      <td>NaN</td>\n",
       "      <td>NaN</td>\n",
       "      <td>NaN</td>\n",
       "      <td>NaN</td>\n",
       "      <td>NaN</td>\n",
       "      <td>NaN</td>\n",
       "    </tr>\n",
       "  </tbody>\n",
       "</table>\n",
       "<p>1 rows × 25 columns</p>\n",
       "</div>"
      ],
      "text/plain": [
       "     tract_num        company           corp  num_refine        county  \\\n",
       "0  48000000000  No refineries  No refineries         0.0  Entire State   \n",
       "\n",
       "   respir_hi  neurol_hi  develop_hi  reprodu_hi  kidney_hi  ...  coke_r/m  \\\n",
       "0        0.4       0.03        0.03        0.03      0.008  ...       0.0   \n",
       "\n",
       "   butadi_r/m  benzene_t  toluene_t  eth_benz_t  xylenes_t  diesel_t  \\\n",
       "0    0.480044        NaN        NaN         NaN        NaN       NaN   \n",
       "\n",
       "   trimeth_t  coke_t  butadien_t  \n",
       "0        NaN     NaN         NaN  \n",
       "\n",
       "[1 rows x 25 columns]"
      ]
     },
     "execution_count": 8,
     "metadata": {},
     "output_type": "execute_result"
    }
   ],
   "source": [
    "refinery_df.columns = ['tract_num','company','corp','num_refine','county','drop_1','respir_hi','neurol_hi','develop_hi',\n",
    "                       'reprodu_hi','kidney_hi','immuno_hi','tot_bod_hi','total_r/m','ptstat_r/m','benzen_r/m','coke_r/m',\n",
    "                       'butadi_r/m','benzene_t','toluene_t','eth_benz_t','xylenes_t','diesel_t','trimeth_t','coke_t','butadien_t']\n",
    "\n",
    "refinery_df.drop(columns='drop_1', inplace=True)\n",
    "\n",
    "refinery_df.head(1)"
   ]
  },
  {
   "cell_type": "markdown",
   "id": "11cace86-0696-4791-9700-252967193a24",
   "metadata": {
    "tags": []
   },
   "source": [
    "## Check for duplicate column names\n",
    "\n",
    "- just tract_num for joining"
   ]
  },
  {
   "cell_type": "code",
   "execution_count": 9,
   "id": "45bb80be-51e1-4495-8acb-8b1585701126",
   "metadata": {},
   "outputs": [
    {
     "data": {
      "text/plain": [
       "['tract_num']"
      ]
     },
     "execution_count": 9,
     "metadata": {},
     "output_type": "execute_result"
    }
   ],
   "source": [
    "[col for col in cancer_df.columns if col in shape_df.columns or col in refinery_df.columns]"
   ]
  },
  {
   "cell_type": "code",
   "execution_count": 10,
   "id": "67a789b1-3b46-4bc7-b846-35ab7870d983",
   "metadata": {},
   "outputs": [
    {
     "data": {
      "text/plain": [
       "['tract_num']"
      ]
     },
     "execution_count": 10,
     "metadata": {},
     "output_type": "execute_result"
    }
   ],
   "source": [
    "[col for col in refinery_df.columns if col in shape_df.columns or col in cancer_df.columns]"
   ]
  },
  {
   "cell_type": "code",
   "execution_count": 11,
   "id": "fbfdc305-0b02-463b-9561-fc2d1e45719c",
   "metadata": {},
   "outputs": [
    {
     "data": {
      "text/plain": [
       "['tract_num']"
      ]
     },
     "execution_count": 11,
     "metadata": {},
     "output_type": "execute_result"
    }
   ],
   "source": [
    "[col for col in shape_df.columns if col in cancer_df.columns or col in refinery_df.columns]"
   ]
  },
  {
   "cell_type": "markdown",
   "id": "6c7e9dd9-e64f-480c-8f69-ff9273beebbe",
   "metadata": {},
   "source": [
    "## Join dataframes into one and save to shape file"
   ]
  },
  {
   "cell_type": "code",
   "execution_count": 12,
   "id": "dc4832f7-f7a0-49c1-8de8-43c33f37044c",
   "metadata": {},
   "outputs": [
    {
     "name": "stdout",
     "output_type": "stream",
     "text": [
      "(5265, 20)\n",
      "(5493, 25)\n",
      "(5222, 7)\n"
     ]
    }
   ],
   "source": [
    "print(shape_df.shape)\n",
    "print(refinery_df.shape)\n",
    "print(cancer_df.shape)"
   ]
  },
  {
   "cell_type": "code",
   "execution_count": 15,
   "id": "c23c85e2-244c-4b0f-8214-b4eee47e61ad",
   "metadata": {},
   "outputs": [
    {
     "data": {
      "text/plain": [
       "Index(['tract_num', 'company', 'corp', 'num_refine', 'county', 'respir_hi',\n",
       "       'neurol_hi', 'develop_hi', 'reprodu_hi', 'kidney_hi', 'immuno_hi',\n",
       "       'tot_bod_hi', 'total_r/m', 'ptstat_r/m', 'benzen_r/m', 'coke_r/m',\n",
       "       'butadi_r/m', 'benzene_t', 'toluene_t', 'eth_benz_t', 'xylenes_t',\n",
       "       'diesel_t', 'trimeth_t', 'coke_t', 'butadien_t', 'county_num',\n",
       "       'cancer_%', 'cancer_%_l', 'cancer_%_h', 'total_pop', 'geo_loc', 'mtfcc',\n",
       "       'aland', 'awater', 'intptlat', 'intptlon', 'households', 'below_pove',\n",
       "       'hh_snap', 'hh_nowork', 'tract_name', 'below50pov', 'below125po',\n",
       "       'below150po', 'below185po', 'below200po', 'below300po', 'below400po',\n",
       "       'below500po', 'geometry'],\n",
       "      dtype='object')"
      ]
     },
     "execution_count": 15,
     "metadata": {},
     "output_type": "execute_result"
    }
   ],
   "source": [
    "combined.columns"
   ]
  },
  {
   "cell_type": "code",
   "execution_count": 13,
   "id": "630b1ff9-e7a8-439a-ad71-4f5630647cee",
   "metadata": {},
   "outputs": [
    {
     "data": {
      "text/plain": [
       "Index(['tract_num', 'company', 'corp', 'num_refine', 'county', 'respir_hi',\n",
       "       'neurol_hi', 'develop_hi', 'reprodu_hi', 'kidney_hi', 'immuno_hi',\n",
       "       'tot_bod_hi', 'total_r/m', 'ptstat_r/m', 'benzen_r/m', 'coke_r/m',\n",
       "       'butadi_r/m', 'benzene_t', 'toluene_t', 'eth_benz_t', 'xylenes_t',\n",
       "       'diesel_t', 'trimeth_t', 'coke_t', 'butadien_t', 'county_num',\n",
       "       'cancer_%', 'cancer_%_l', 'cancer_%_h', 'total_pop', 'geo_loc', 'mtfcc',\n",
       "       'aland', 'awater', 'intptlat', 'intptlon', 'households', 'below_pove',\n",
       "       'hh_snap', 'hh_nowork', 'tract_name', 'below50pov', 'below125po',\n",
       "       'below150po', 'below185po', 'below200po', 'below300po', 'below400po',\n",
       "       'below500po', 'geometry'],\n",
       "      dtype='object')"
      ]
     },
     "execution_count": 13,
     "metadata": {},
     "output_type": "execute_result"
    }
   ],
   "source": [
    "combined = refinery_df.merge(cancer_df, on='tract_num', how='left')\n",
    "\n",
    "combined = combined.merge(shape_df, on='tract_num', how='left')\n",
    "\n",
    "combined_gpd = gpd.GeoDataFrame(combined)\n",
    "\n",
    "combined_gpd.columns"
   ]
  },
  {
   "cell_type": "code",
   "execution_count": 16,
   "id": "72a9a8e9-a083-412c-80c3-bd636ff07b2c",
   "metadata": {},
   "outputs": [
    {
     "name": "stdout",
     "output_type": "stream",
     "text": [
      "<class 'geopandas.geodataframe.GeoDataFrame'>\n",
      "Int64Index: 5493 entries, 0 to 5492\n",
      "Data columns (total 50 columns):\n",
      " #   Column      Non-Null Count  Dtype   \n",
      "---  ------      --------------  -----   \n",
      " 0   tract_num   5493 non-null   int64   \n",
      " 1   company     5493 non-null   object  \n",
      " 2   corp        5493 non-null   object  \n",
      " 3   num_refine  5493 non-null   float64 \n",
      " 4   county      5493 non-null   object  \n",
      " 5   respir_hi   5493 non-null   float64 \n",
      " 6   neurol_hi   5493 non-null   float64 \n",
      " 7   develop_hi  5493 non-null   float64 \n",
      " 8   reprodu_hi  5493 non-null   float64 \n",
      " 9   kidney_hi   5493 non-null   float64 \n",
      " 10  immuno_hi   5493 non-null   float64 \n",
      " 11  tot_bod_hi  5493 non-null   float64 \n",
      " 12  total_r/m   5493 non-null   int64   \n",
      " 13  ptstat_r/m  5493 non-null   float64 \n",
      " 14  benzen_r/m  5493 non-null   float64 \n",
      " 15  coke_r/m    5493 non-null   float64 \n",
      " 16  butadi_r/m  5493 non-null   float64 \n",
      " 17  benzene_t   867 non-null    float64 \n",
      " 18  toluene_t   867 non-null    float64 \n",
      " 19  eth_benz_t  867 non-null    float64 \n",
      " 20  xylenes_t   867 non-null    float64 \n",
      " 21  diesel_t    867 non-null    float64 \n",
      " 22  trimeth_t   867 non-null    float64 \n",
      " 23  coke_t      867 non-null    float64 \n",
      " 24  butadien_t  867 non-null    float64 \n",
      " 25  county_num  5222 non-null   float64 \n",
      " 26  cancer_%    5222 non-null   float64 \n",
      " 27  cancer_%_l  5222 non-null   float64 \n",
      " 28  cancer_%_h  5222 non-null   float64 \n",
      " 29  total_pop   5222 non-null   float64 \n",
      " 30  geo_loc     5222 non-null   object  \n",
      " 31  mtfcc       5238 non-null   object  \n",
      " 32  aland       5238 non-null   float64 \n",
      " 33  awater      5238 non-null   float64 \n",
      " 34  intptlat    5238 non-null   object  \n",
      " 35  intptlon    5238 non-null   object  \n",
      " 36  households  5238 non-null   float64 \n",
      " 37  below_pove  5238 non-null   float64 \n",
      " 38  hh_snap     5238 non-null   float64 \n",
      " 39  hh_nowork   5238 non-null   object  \n",
      " 40  tract_name  5238 non-null   object  \n",
      " 41  below50pov  5238 non-null   float64 \n",
      " 42  below125po  5238 non-null   float64 \n",
      " 43  below150po  5238 non-null   float64 \n",
      " 44  below185po  5238 non-null   float64 \n",
      " 45  below200po  5238 non-null   float64 \n",
      " 46  below300po  5238 non-null   float64 \n",
      " 47  below400po  5238 non-null   float64 \n",
      " 48  below500po  5238 non-null   float64 \n",
      " 49  geometry    5238 non-null   geometry\n",
      "dtypes: float64(38), geometry(1), int64(2), object(9)\n",
      "memory usage: 2.1+ MB\n"
     ]
    }
   ],
   "source": [
    "combined_gpd.info()"
   ]
  },
  {
   "cell_type": "code",
   "execution_count": 14,
   "id": "20ce2106-a00e-4d12-b5f9-fdbc22aa0b44",
   "metadata": {},
   "outputs": [
    {
     "data": {
      "text/plain": [
       "geopandas.geodataframe.GeoDataFrame"
      ]
     },
     "execution_count": 14,
     "metadata": {},
     "output_type": "execute_result"
    }
   ],
   "source": [
    "type(combined_gpd)"
   ]
  },
  {
   "cell_type": "code",
   "execution_count": 15,
   "id": "17bb48cb-6ba2-4c03-86d8-7bce657d4dd0",
   "metadata": {},
   "outputs": [],
   "source": [
    "combined_gpd.to_file('./cleaned_datasets/all_data_txshp/all_data_shape.shp', index=False)"
   ]
  }
 ],
 "metadata": {
  "kernelspec": {
   "display_name": "Python 3 (ipykernel)",
   "language": "python",
   "name": "python3"
  },
  "language_info": {
   "codemirror_mode": {
    "name": "ipython",
    "version": 3
   },
   "file_extension": ".py",
   "mimetype": "text/x-python",
   "name": "python",
   "nbconvert_exporter": "python",
   "pygments_lexer": "ipython3",
   "version": "3.9.12"
  }
 },
 "nbformat": 4,
 "nbformat_minor": 5
}
