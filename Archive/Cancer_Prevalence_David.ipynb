{
 "cells": [
  {
   "cell_type": "markdown",
   "id": "f91aac65-606b-48d2-8da3-78285f92f8da",
   "metadata": {},
   "source": [
    "**David notebook clean dataset with cancer prevalence by tract**"
   ]
  },
  {
   "cell_type": "code",
   "execution_count": 1,
   "id": "1e370f33-2bbf-4518-b887-db6e596526d0",
   "metadata": {},
   "outputs": [],
   "source": [
    "import pandas as pd\n",
    "import numpy as np"
   ]
  },
  {
   "cell_type": "code",
   "execution_count": 3,
   "id": "77246f1e-5a8c-458d-8345-f9555687e611",
   "metadata": {},
   "outputs": [
    {
     "data": {
      "text/html": [
       "<div>\n",
       "<style scoped>\n",
       "    .dataframe tbody tr th:only-of-type {\n",
       "        vertical-align: middle;\n",
       "    }\n",
       "\n",
       "    .dataframe tbody tr th {\n",
       "        vertical-align: top;\n",
       "    }\n",
       "\n",
       "    .dataframe thead th {\n",
       "        text-align: right;\n",
       "    }\n",
       "</style>\n",
       "<table border=\"1\" class=\"dataframe\">\n",
       "  <thead>\n",
       "    <tr style=\"text-align: right;\">\n",
       "      <th></th>\n",
       "      <th>StateFIPS</th>\n",
       "      <th>State</th>\n",
       "      <th>CensusTract</th>\n",
       "      <th>Census Tract</th>\n",
       "      <th>Year</th>\n",
       "      <th>Value</th>\n",
       "      <th>Data Comment</th>\n",
       "      <th>95% Confidence Interval</th>\n",
       "      <th>Confidence Interval Low</th>\n",
       "      <th>Confidence Interval High</th>\n",
       "      <th>Unnamed: 10</th>\n",
       "    </tr>\n",
       "  </thead>\n",
       "  <tbody>\n",
       "    <tr>\n",
       "      <th>0</th>\n",
       "      <td>48</td>\n",
       "      <td>Texas</td>\n",
       "      <td>48001950100</td>\n",
       "      <td>Anderson County, TX - 48001950100</td>\n",
       "      <td>2018</td>\n",
       "      <td>8.2%</td>\n",
       "      <td>NaN</td>\n",
       "      <td>(8.0% - 8.5%)</td>\n",
       "      <td>8.0%</td>\n",
       "      <td>8.5%</td>\n",
       "      <td>NaN</td>\n",
       "    </tr>\n",
       "    <tr>\n",
       "      <th>1</th>\n",
       "      <td>48</td>\n",
       "      <td>Texas</td>\n",
       "      <td>48001950401</td>\n",
       "      <td>Anderson County, TX - 48001950401</td>\n",
       "      <td>2018</td>\n",
       "      <td>2.5%</td>\n",
       "      <td>NaN</td>\n",
       "      <td>(2.4% - 2.7%)</td>\n",
       "      <td>2.4%</td>\n",
       "      <td>2.7%</td>\n",
       "      <td>NaN</td>\n",
       "    </tr>\n",
       "  </tbody>\n",
       "</table>\n",
       "</div>"
      ],
      "text/plain": [
       "   StateFIPS  State  CensusTract                       Census Tract  Year  \\\n",
       "0         48  Texas  48001950100  Anderson County, TX - 48001950100  2018   \n",
       "1         48  Texas  48001950401  Anderson County, TX - 48001950401  2018   \n",
       "\n",
       "  Value  Data Comment 95% Confidence Interval Confidence Interval Low  \\\n",
       "0  8.2%           NaN           (8.0% - 8.5%)                    8.0%   \n",
       "1  2.5%           NaN           (2.4% - 2.7%)                    2.4%   \n",
       "\n",
       "  Confidence Interval High  Unnamed: 10  \n",
       "0                     8.5%          NaN  \n",
       "1                     2.7%          NaN  "
      ]
     },
     "execution_count": 3,
     "metadata": {},
     "output_type": "execute_result"
    }
   ],
   "source": [
    "data = pd.read_csv('./datasets/over_18_cancer.csv')\n",
    "data.head(2)"
   ]
  },
  {
   "cell_type": "code",
   "execution_count": 9,
   "id": "658f4d2a-c61f-4d0d-8417-6abd2afd19ad",
   "metadata": {},
   "outputs": [],
   "source": [
    "data_2018 = pd.DataFrame(data[['CensusTract', 'Value']])"
   ]
  },
  {
   "cell_type": "code",
   "execution_count": 14,
   "id": "b8a49bcb-5672-4d8c-a2e5-68793b84d04a",
   "metadata": {},
   "outputs": [],
   "source": [
    "data_2018.columns = ['census_tract', 'cancer_percentage']"
   ]
  },
  {
   "cell_type": "markdown",
   "id": "de9a1daf-6a6c-4a98-9201-4fbce6ae9b60",
   "metadata": {},
   "source": [
    "**clean cancer_percentage column**"
   ]
  },
  {
   "cell_type": "code",
   "execution_count": 33,
   "id": "6294ad03-a6e7-47c9-99e7-f649b94e23c2",
   "metadata": {},
   "outputs": [],
   "source": [
    "data_2018['cancer_percentage'] = data_2018['cancer_percentage'].str.replace('%', '')\n",
    "data_2018['cancer_percentage'] = data_2018['cancer_percentage'].str.replace(\"'\", '')\n",
    "data_2018['cancer_percentage'] = data_2018['cancer_percentage'].replace('Low Population', np.nan) # one tract has no data available to do low population"
   ]
  },
  {
   "cell_type": "markdown",
   "id": "8f481e7f-4332-4197-92dd-fd278cfe7251",
   "metadata": {},
   "source": [
    "**Convert percentage to decimal**"
   ]
  },
  {
   "cell_type": "code",
   "execution_count": 39,
   "id": "7d49f27d-8488-4c40-94c9-51e887ec0c7f",
   "metadata": {
    "tags": []
   },
   "outputs": [],
   "source": [
    "data_2018['cancer_percentage'] = data_2018['cancer_percentage'].astype(float) / 100"
   ]
  },
  {
   "cell_type": "code",
   "execution_count": 41,
   "id": "b7116319-416a-4f4f-bc12-805e30c12108",
   "metadata": {},
   "outputs": [
    {
     "data": {
      "text/html": [
       "<div>\n",
       "<style scoped>\n",
       "    .dataframe tbody tr th:only-of-type {\n",
       "        vertical-align: middle;\n",
       "    }\n",
       "\n",
       "    .dataframe tbody tr th {\n",
       "        vertical-align: top;\n",
       "    }\n",
       "\n",
       "    .dataframe thead th {\n",
       "        text-align: right;\n",
       "    }\n",
       "</style>\n",
       "<table border=\"1\" class=\"dataframe\">\n",
       "  <thead>\n",
       "    <tr style=\"text-align: right;\">\n",
       "      <th></th>\n",
       "      <th>census_tract</th>\n",
       "      <th>cancer_percentage</th>\n",
       "    </tr>\n",
       "  </thead>\n",
       "  <tbody>\n",
       "    <tr>\n",
       "      <th>0</th>\n",
       "      <td>48001950100</td>\n",
       "      <td>0.082</td>\n",
       "    </tr>\n",
       "    <tr>\n",
       "      <th>1</th>\n",
       "      <td>48001950401</td>\n",
       "      <td>0.025</td>\n",
       "    </tr>\n",
       "    <tr>\n",
       "      <th>2</th>\n",
       "      <td>48001950402</td>\n",
       "      <td>0.033</td>\n",
       "    </tr>\n",
       "    <tr>\n",
       "      <th>3</th>\n",
       "      <td>48001950500</td>\n",
       "      <td>0.068</td>\n",
       "    </tr>\n",
       "    <tr>\n",
       "      <th>4</th>\n",
       "      <td>48001950600</td>\n",
       "      <td>0.065</td>\n",
       "    </tr>\n",
       "    <tr>\n",
       "      <th>...</th>\n",
       "      <td>...</td>\n",
       "      <td>...</td>\n",
       "    </tr>\n",
       "    <tr>\n",
       "      <th>5260</th>\n",
       "      <td>48505950400</td>\n",
       "      <td>0.049</td>\n",
       "    </tr>\n",
       "    <tr>\n",
       "      <th>5261</th>\n",
       "      <td>48507950100</td>\n",
       "      <td>0.053</td>\n",
       "    </tr>\n",
       "    <tr>\n",
       "      <th>5262</th>\n",
       "      <td>48507950200</td>\n",
       "      <td>0.054</td>\n",
       "    </tr>\n",
       "    <tr>\n",
       "      <th>5263</th>\n",
       "      <td>48507950301</td>\n",
       "      <td>0.043</td>\n",
       "    </tr>\n",
       "    <tr>\n",
       "      <th>5264</th>\n",
       "      <td>48507950302</td>\n",
       "      <td>0.056</td>\n",
       "    </tr>\n",
       "  </tbody>\n",
       "</table>\n",
       "<p>5265 rows × 2 columns</p>\n",
       "</div>"
      ],
      "text/plain": [
       "      census_tract  cancer_percentage\n",
       "0      48001950100              0.082\n",
       "1      48001950401              0.025\n",
       "2      48001950402              0.033\n",
       "3      48001950500              0.068\n",
       "4      48001950600              0.065\n",
       "...            ...                ...\n",
       "5260   48505950400              0.049\n",
       "5261   48507950100              0.053\n",
       "5262   48507950200              0.054\n",
       "5263   48507950301              0.043\n",
       "5264   48507950302              0.056\n",
       "\n",
       "[5265 rows x 2 columns]"
      ]
     },
     "execution_count": 41,
     "metadata": {},
     "output_type": "execute_result"
    }
   ],
   "source": [
    "data_2018"
   ]
  },
  {
   "cell_type": "code",
   "execution_count": 42,
   "id": "1e98383d-e12c-40a7-9308-9a6215aaa9a9",
   "metadata": {},
   "outputs": [],
   "source": [
    "data_2018.to_csv('./DSI-group_project/cleaned_datasets/texas_cancer_prevalence_by_tract.csv', index=False)"
   ]
  },
  {
   "cell_type": "code",
   "execution_count": null,
   "id": "f939dc9a-bdb0-4f1a-982f-cb0a6e106acc",
   "metadata": {},
   "outputs": [],
   "source": []
  }
 ],
 "metadata": {
  "kernelspec": {
   "display_name": "Python 3 (ipykernel)",
   "language": "python",
   "name": "python3"
  },
  "language_info": {
   "codemirror_mode": {
    "name": "ipython",
    "version": 3
   },
   "file_extension": ".py",
   "mimetype": "text/x-python",
   "name": "python",
   "nbconvert_exporter": "python",
   "pygments_lexer": "ipython3",
   "version": "3.9.12"
  }
 },
 "nbformat": 4,
 "nbformat_minor": 5
}
