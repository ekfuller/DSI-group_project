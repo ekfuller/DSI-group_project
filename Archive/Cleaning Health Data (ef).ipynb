{
 "cells": [
  {
   "cell_type": "code",
   "execution_count": 1,
   "id": "0d8e34c3-9011-42e6-8aa0-3ae0e13f8fd2",
   "metadata": {},
   "outputs": [],
   "source": [
    "import pandas as pd"
   ]
  },
  {
   "cell_type": "code",
   "execution_count": 35,
   "id": "2420af98-47fd-4f6b-9df4-98689f643a6c",
   "metadata": {},
   "outputs": [],
   "source": [
    "df= pd.read_csv('./datasets/Texas_Health_Data.csv')"
   ]
  },
  {
   "cell_type": "code",
   "execution_count": 4,
   "id": "0a57a324-c0bd-4c1d-b3c3-818f35edc1f0",
   "metadata": {},
   "outputs": [
    {
     "data": {
      "text/html": [
       "<div>\n",
       "<style scoped>\n",
       "    .dataframe tbody tr th:only-of-type {\n",
       "        vertical-align: middle;\n",
       "    }\n",
       "\n",
       "    .dataframe tbody tr th {\n",
       "        vertical-align: top;\n",
       "    }\n",
       "\n",
       "    .dataframe thead th {\n",
       "        text-align: right;\n",
       "    }\n",
       "</style>\n",
       "<table border=\"1\" class=\"dataframe\">\n",
       "  <thead>\n",
       "    <tr style=\"text-align: right;\">\n",
       "      <th></th>\n",
       "      <th>Unnamed: 0</th>\n",
       "      <th>Year</th>\n",
       "      <th>StateAbbr</th>\n",
       "      <th>StateDesc</th>\n",
       "      <th>CountyName</th>\n",
       "      <th>CountyFIPS</th>\n",
       "      <th>LocationName</th>\n",
       "      <th>DataSource</th>\n",
       "      <th>Category</th>\n",
       "      <th>Measure</th>\n",
       "      <th>...</th>\n",
       "      <th>Data_Value_Footnote</th>\n",
       "      <th>Low_Confidence_Limit</th>\n",
       "      <th>High_Confidence_Limit</th>\n",
       "      <th>TotalPopulation</th>\n",
       "      <th>Geolocation</th>\n",
       "      <th>LocationID</th>\n",
       "      <th>CategoryID</th>\n",
       "      <th>MeasureId</th>\n",
       "      <th>DataValueTypeID</th>\n",
       "      <th>Short_Question_Text</th>\n",
       "    </tr>\n",
       "  </thead>\n",
       "  <tbody>\n",
       "    <tr>\n",
       "      <th>0</th>\n",
       "      <td>1771078</td>\n",
       "      <td>2018</td>\n",
       "      <td>TX</td>\n",
       "      <td>Texas</td>\n",
       "      <td>Angelina</td>\n",
       "      <td>48005</td>\n",
       "      <td>48005000800</td>\n",
       "      <td>BRFSS</td>\n",
       "      <td>Prevention</td>\n",
       "      <td>Fecal occult blood test, sigmoidoscopy, or col...</td>\n",
       "      <td>...</td>\n",
       "      <td>NaN</td>\n",
       "      <td>61.5</td>\n",
       "      <td>67.4</td>\n",
       "      <td>6299</td>\n",
       "      <td>POINT (-94.70621532 31.31131923)</td>\n",
       "      <td>48005000800</td>\n",
       "      <td>PREVENT</td>\n",
       "      <td>COLON_SCREEN</td>\n",
       "      <td>CrdPrv</td>\n",
       "      <td>Colorectal Cancer Screening</td>\n",
       "    </tr>\n",
       "    <tr>\n",
       "      <th>1</th>\n",
       "      <td>1771095</td>\n",
       "      <td>2019</td>\n",
       "      <td>TX</td>\n",
       "      <td>Texas</td>\n",
       "      <td>Angelina</td>\n",
       "      <td>48005</td>\n",
       "      <td>48005000400</td>\n",
       "      <td>BRFSS</td>\n",
       "      <td>Health Status</td>\n",
       "      <td>Mental health not good for &gt;=14 days among adu...</td>\n",
       "      <td>...</td>\n",
       "      <td>NaN</td>\n",
       "      <td>16.1</td>\n",
       "      <td>18.3</td>\n",
       "      <td>5479</td>\n",
       "      <td>POINT (-94.75285096 31.34206336)</td>\n",
       "      <td>48005000400</td>\n",
       "      <td>HLTHSTAT</td>\n",
       "      <td>MHLTH</td>\n",
       "      <td>CrdPrv</td>\n",
       "      <td>Mental Health</td>\n",
       "    </tr>\n",
       "  </tbody>\n",
       "</table>\n",
       "<p>2 rows × 24 columns</p>\n",
       "</div>"
      ],
      "text/plain": [
       "   Unnamed: 0  Year StateAbbr StateDesc CountyName  CountyFIPS  LocationName  \\\n",
       "0     1771078  2018        TX     Texas   Angelina       48005   48005000800   \n",
       "1     1771095  2019        TX     Texas   Angelina       48005   48005000400   \n",
       "\n",
       "  DataSource       Category  \\\n",
       "0      BRFSS     Prevention   \n",
       "1      BRFSS  Health Status   \n",
       "\n",
       "                                             Measure  ... Data_Value_Footnote  \\\n",
       "0  Fecal occult blood test, sigmoidoscopy, or col...  ...                 NaN   \n",
       "1  Mental health not good for >=14 days among adu...  ...                 NaN   \n",
       "\n",
       "  Low_Confidence_Limit  High_Confidence_Limit  TotalPopulation  \\\n",
       "0                 61.5                   67.4             6299   \n",
       "1                 16.1                   18.3             5479   \n",
       "\n",
       "                        Geolocation   LocationID  CategoryID     MeasureId  \\\n",
       "0  POINT (-94.70621532 31.31131923)  48005000800     PREVENT  COLON_SCREEN   \n",
       "1  POINT (-94.75285096 31.34206336)  48005000400    HLTHSTAT         MHLTH   \n",
       "\n",
       "  DataValueTypeID          Short_Question_Text  \n",
       "0          CrdPrv  Colorectal Cancer Screening  \n",
       "1          CrdPrv                Mental Health  \n",
       "\n",
       "[2 rows x 24 columns]"
      ]
     },
     "execution_count": 4,
     "metadata": {},
     "output_type": "execute_result"
    }
   ],
   "source": [
    "df.head(2)"
   ]
  },
  {
   "cell_type": "code",
   "execution_count": 36,
   "id": "e88ca846-c08a-4150-84b7-2463400c7c70",
   "metadata": {},
   "outputs": [],
   "source": [
    "df.drop(columns='Unnamed: 0', inplace=True)"
   ]
  },
  {
   "cell_type": "code",
   "execution_count": 37,
   "id": "e6fb9bbd-7f99-4a46-ab58-997f437c68e3",
   "metadata": {},
   "outputs": [],
   "source": [
    "df.drop(\n",
    "    columns= ['StateDesc','CountyName', 'Category','Data_Value_Footnote',\n",
    "              'CategoryID', 'MeasureId','DataValueTypeID','Short_Question_Text', 'Data_Value_Footnote_Symbol'], inplace=True)\n"
   ]
  },
  {
   "cell_type": "code",
   "execution_count": 38,
   "id": "5c9e706b-7e8d-40a1-b657-f65ca03896ef",
   "metadata": {},
   "outputs": [
    {
     "data": {
      "text/plain": [
       "Index(['Year', 'StateAbbr', 'CountyFIPS', 'LocationName', 'DataSource',\n",
       "       'Measure', 'Data_Value_Unit', 'Data_Value_Type', 'Data_Value',\n",
       "       'Low_Confidence_Limit', 'High_Confidence_Limit', 'TotalPopulation',\n",
       "       'Geolocation', 'LocationID'],\n",
       "      dtype='object')"
      ]
     },
     "execution_count": 38,
     "metadata": {},
     "output_type": "execute_result"
    }
   ],
   "source": [
    "df.columns"
   ]
  },
  {
   "cell_type": "code",
   "execution_count": 46,
   "id": "f6f36934-9e15-46fa-963a-02b7b86c1e5d",
   "metadata": {},
   "outputs": [
    {
     "data": {
      "text/plain": [
       "Depression among adults aged >=18 years                                                                                                                                                           5222\n",
       "Taking medicine for high blood pressure control among adults aged >=18 years with high blood pressure                                                                                             5222\n",
       "Visits to dentist or dental clinic among adults aged >=18 years                                                                                                                                   5222\n",
       "Binge drinking among adults aged >=18 years                                                                                                                                                       5222\n",
       "Stroke among adults aged >=18 years                                                                                                                                                               5222\n",
       "No leisure-time physical activity among adults aged >=18 years                                                                                                                                    5222\n",
       "Chronic kidney disease among adults aged >=18 years                                                                                                                                               5222\n",
       "Diagnosed diabetes among adults aged >=18 years                                                                                                                                                   5222\n",
       "Coronary heart disease among adults aged >=18 years                                                                                                                                               5222\n",
       "Fair or poor self-rated health status among adults aged >=18 years                                                                                                                                5222\n",
       "Physical health not good for >=14 days among adults aged >=18 years                                                                                                                               5222\n",
       "Chronic obstructive pulmonary disease among adults aged >=18 years                                                                                                                                5222\n",
       "Mental health not good for >=14 days among adults aged >=18 years                                                                                                                                 5222\n",
       "Current asthma among adults aged >=18 years                                                                                                                                                       5222\n",
       "Cholesterol screening among adults aged >=18 years                                                                                                                                                5222\n",
       "Visits to doctor for routine checkup within the past year among adults aged >=18 years                                                                                                            5222\n",
       "Obesity among adults aged >=18 years                                                                                                                                                              5222\n",
       "Arthritis among adults aged >=18 years                                                                                                                                                            5222\n",
       "Current lack of health insurance among adults aged 18-64 years                                                                                                                                    5222\n",
       "Current smoking among adults aged >=18 years                                                                                                                                                      5222\n",
       "Cancer (excluding skin cancer) among adults aged >=18 years                                                                                                                                       5222\n",
       "Sleeping less than 7 hours among adults aged >=18 years                                                                                                                                           5222\n",
       "High cholesterol among adults aged >=18 years who have been screened in the past 5 years                                                                                                          5222\n",
       "High blood pressure among adults aged >=18 years                                                                                                                                                  5222\n",
       "Cervical cancer screening among adult women aged 21-65 years                                                                                                                                      5221\n",
       "Fecal occult blood test, sigmoidoscopy, or colonoscopy among adults aged 50-75 years                                                                                                              5219\n",
       "Mammography use among women aged 50-74 years                                                                                                                                                      5218\n",
       "All teeth lost among adults aged >=65 years                                                                                                                                                       5211\n",
       "Older adult men aged >=65 years who are up to date on a core set of clinical preventive services: Flu shot past year, PPV shot ever, Colorectal cancer screening                                  5210\n",
       "Older adult women aged >=65 years who are up to date on a core set of clinical preventive services: Flu shot past year, PPV shot ever, Colorectal cancer screening, and Mammogram past 2 years    5204\n",
       "Name: Measure, dtype: int64"
      ]
     },
     "execution_count": 46,
     "metadata": {},
     "output_type": "execute_result"
    }
   ],
   "source": [
    "df['Measure'].value_counts()"
   ]
  },
  {
   "cell_type": "code",
   "execution_count": 39,
   "id": "a487a078-5d0b-426d-a9fa-330e88178810",
   "metadata": {},
   "outputs": [],
   "source": [
    "df_cancer = df[df['Measure']=='Cancer (excluding skin cancer) among adults aged >=18 years']"
   ]
  },
  {
   "cell_type": "code",
   "execution_count": 40,
   "id": "4a17c386-e212-426a-9ff7-3bdfdc943f95",
   "metadata": {},
   "outputs": [
    {
     "name": "stdout",
     "output_type": "stream",
     "text": [
      "<class 'pandas.core.frame.DataFrame'>\n",
      "Int64Index: 5222 entries, 7 to 156593\n",
      "Data columns (total 14 columns):\n",
      " #   Column                 Non-Null Count  Dtype  \n",
      "---  ------                 --------------  -----  \n",
      " 0   Year                   5222 non-null   int64  \n",
      " 1   StateAbbr              5222 non-null   object \n",
      " 2   CountyFIPS             5222 non-null   int64  \n",
      " 3   LocationName           5222 non-null   int64  \n",
      " 4   DataSource             5222 non-null   object \n",
      " 5   Measure                5222 non-null   object \n",
      " 6   Data_Value_Unit        5222 non-null   object \n",
      " 7   Data_Value_Type        5222 non-null   object \n",
      " 8   Data_Value             5222 non-null   float64\n",
      " 9   Low_Confidence_Limit   5222 non-null   float64\n",
      " 10  High_Confidence_Limit  5222 non-null   float64\n",
      " 11  TotalPopulation        5222 non-null   int64  \n",
      " 12  Geolocation            5222 non-null   object \n",
      " 13  LocationID             5222 non-null   int64  \n",
      "dtypes: float64(3), int64(5), object(6)\n",
      "memory usage: 612.0+ KB\n"
     ]
    }
   ],
   "source": [
    "df_cancer.info()"
   ]
  },
  {
   "cell_type": "code",
   "execution_count": 41,
   "id": "99f7249b-e842-4f64-ac9d-1c9c0728a925",
   "metadata": {},
   "outputs": [
    {
     "data": {
      "text/html": [
       "<div>\n",
       "<style scoped>\n",
       "    .dataframe tbody tr th:only-of-type {\n",
       "        vertical-align: middle;\n",
       "    }\n",
       "\n",
       "    .dataframe tbody tr th {\n",
       "        vertical-align: top;\n",
       "    }\n",
       "\n",
       "    .dataframe thead th {\n",
       "        text-align: right;\n",
       "    }\n",
       "</style>\n",
       "<table border=\"1\" class=\"dataframe\">\n",
       "  <thead>\n",
       "    <tr style=\"text-align: right;\">\n",
       "      <th></th>\n",
       "      <th>Year</th>\n",
       "      <th>StateAbbr</th>\n",
       "      <th>CountyFIPS</th>\n",
       "      <th>LocationName</th>\n",
       "      <th>DataSource</th>\n",
       "      <th>Measure</th>\n",
       "      <th>Data_Value_Unit</th>\n",
       "      <th>Data_Value_Type</th>\n",
       "      <th>Data_Value</th>\n",
       "      <th>Low_Confidence_Limit</th>\n",
       "      <th>High_Confidence_Limit</th>\n",
       "      <th>TotalPopulation</th>\n",
       "      <th>Geolocation</th>\n",
       "      <th>LocationID</th>\n",
       "    </tr>\n",
       "  </thead>\n",
       "  <tbody>\n",
       "    <tr>\n",
       "      <th>7</th>\n",
       "      <td>2019</td>\n",
       "      <td>TX</td>\n",
       "      <td>48005</td>\n",
       "      <td>48005000102</td>\n",
       "      <td>BRFSS</td>\n",
       "      <td>Cancer (excluding skin cancer) among adults ag...</td>\n",
       "      <td>%</td>\n",
       "      <td>Crude prevalence</td>\n",
       "      <td>6.5</td>\n",
       "      <td>6.3</td>\n",
       "      <td>6.7</td>\n",
       "      <td>4447</td>\n",
       "      <td>POINT (-94.87095395 31.32711676)</td>\n",
       "      <td>48005000102</td>\n",
       "    </tr>\n",
       "    <tr>\n",
       "      <th>12</th>\n",
       "      <td>2019</td>\n",
       "      <td>TX</td>\n",
       "      <td>48001</td>\n",
       "      <td>48001951000</td>\n",
       "      <td>BRFSS</td>\n",
       "      <td>Cancer (excluding skin cancer) among adults ag...</td>\n",
       "      <td>%</td>\n",
       "      <td>Crude prevalence</td>\n",
       "      <td>8.0</td>\n",
       "      <td>7.8</td>\n",
       "      <td>8.2</td>\n",
       "      <td>6988</td>\n",
       "      <td>POINT (-95.51380412 31.62277691)</td>\n",
       "      <td>48001951000</td>\n",
       "    </tr>\n",
       "  </tbody>\n",
       "</table>\n",
       "</div>"
      ],
      "text/plain": [
       "    Year StateAbbr  CountyFIPS  LocationName DataSource  \\\n",
       "7   2019        TX       48005   48005000102      BRFSS   \n",
       "12  2019        TX       48001   48001951000      BRFSS   \n",
       "\n",
       "                                              Measure Data_Value_Unit  \\\n",
       "7   Cancer (excluding skin cancer) among adults ag...               %   \n",
       "12  Cancer (excluding skin cancer) among adults ag...               %   \n",
       "\n",
       "     Data_Value_Type  Data_Value  Low_Confidence_Limit  High_Confidence_Limit  \\\n",
       "7   Crude prevalence         6.5                   6.3                    6.7   \n",
       "12  Crude prevalence         8.0                   7.8                    8.2   \n",
       "\n",
       "    TotalPopulation                       Geolocation   LocationID  \n",
       "7              4447  POINT (-94.87095395 31.32711676)  48005000102  \n",
       "12             6988  POINT (-95.51380412 31.62277691)  48001951000  "
      ]
     },
     "execution_count": 41,
     "metadata": {},
     "output_type": "execute_result"
    }
   ],
   "source": [
    "df_cancer.head(2)"
   ]
  },
  {
   "cell_type": "code",
   "execution_count": 42,
   "id": "c7b9f41c-eab6-4d92-98f7-174cbdfc9c7a",
   "metadata": {},
   "outputs": [],
   "source": [
    "df_cancer.to_csv('./cleaned_datasets/cancer_rates.csv')"
   ]
  },
  {
   "cell_type": "code",
   "execution_count": 48,
   "id": "5f4593f9-de66-4830-9c9c-737924f83f74",
   "metadata": {},
   "outputs": [],
   "source": [
    "df_poor_health = df[df['Measure']=='Fair or poor self-rated health status among adults aged >=18 years']"
   ]
  },
  {
   "cell_type": "code",
   "execution_count": 50,
   "id": "90928026-2a45-44ca-a2e8-97c7457b003a",
   "metadata": {},
   "outputs": [],
   "source": [
    "df_poor_health.to_csv('./cleaned_datasets/poor_health_rates.csv')"
   ]
  },
  {
   "cell_type": "code",
   "execution_count": null,
   "id": "30fca80b-7bae-4ac7-a4a6-2fb6968d27e1",
   "metadata": {},
   "outputs": [],
   "source": []
  }
 ],
 "metadata": {
  "kernelspec": {
   "display_name": "Python 3 (ipykernel)",
   "language": "python",
   "name": "python3"
  },
  "language_info": {
   "codemirror_mode": {
    "name": "ipython",
    "version": 3
   },
   "file_extension": ".py",
   "mimetype": "text/x-python",
   "name": "python",
   "nbconvert_exporter": "python",
   "pygments_lexer": "ipython3",
   "version": "3.9.12"
  }
 },
 "nbformat": 4,
 "nbformat_minor": 5
}
