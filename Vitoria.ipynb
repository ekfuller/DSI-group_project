{
 "cells": [
  {
   "cell_type": "markdown",
   "id": "22a96ccf-dae0-439b-abbf-994a577ef088",
   "metadata": {},
   "source": [
    "### Vitoria Moreno-Costa's Notebook\n",
    "DSI Group Project\n",
    "\n",
    "Team 6: Emily Fuller, Karthik Nambiar, Vitoria Moreno-Costa, and David Wagenhurst"
   ]
  },
  {
   "cell_type": "markdown",
   "id": "0e554157-9b9c-43ea-b268-ce3429c26b63",
   "metadata": {},
   "source": [
    "#### Imports"
   ]
  },
  {
   "cell_type": "code",
   "execution_count": 111,
   "id": "cefd12b0-f1f2-4acb-9b22-9207275f9e41",
   "metadata": {},
   "outputs": [],
   "source": [
    "import pandas as pd\n",
    "import numpy as np\n",
    "import matplotlib.pyplot as plt\n",
    "import seaborn as sns\n",
    "import plotly.express as px\n",
    "import requests"
   ]
  },
  {
   "cell_type": "markdown",
   "id": "af6bd5df-1ace-4520-9ea1-6b05b4fc7cdb",
   "metadata": {},
   "source": [
    "### Read in datasets, reduce content to Texas only, and export to cleaned_datasets"
   ]
  },
  {
   "cell_type": "markdown",
   "id": "85b84ad5-197d-4376-a2c9-8f8d51fdd6df",
   "metadata": {},
   "source": [
    "#### US Petroleum Refineries"
   ]
  },
  {
   "cell_type": "code",
   "execution_count": 65,
   "id": "df101909-22d8-4a43-8964-f3d217d893ae",
   "metadata": {},
   "outputs": [],
   "source": [
    "# df_refineries = pd.read_csv('datasets/us-petroleum-refineries.csv')\n",
    "\n",
    "# df_refineries.columns = df_refineries.columns.astype(str).str.strip().str.lower().str.replace(' ','_')\n",
    "\n",
    "# df_texas_refineries = df_refineries[df_refineries['state'] == 'Texas']\n",
    "\n",
    "# df_texas_refineries.loc[:,'state'] = 'TX'\n",
    "\n",
    "# df_texas_refineries.to_csv('cleaned_datasets/texas_petroleum_refineries.csv',index=False)"
   ]
  },
  {
   "cell_type": "markdown",
   "id": "d93fcb68-82a0-484e-badf-d0080bb84786",
   "metadata": {},
   "source": [
    "#### EPA 2017 AirToxScreen: Cancer Risk by Source Group"
   ]
  },
  {
   "cell_type": "code",
   "execution_count": 66,
   "id": "9ce4a2c9-c8b4-4b0b-8d3f-2e2126ef55b0",
   "metadata": {},
   "outputs": [],
   "source": [
    "# df_epa_cancer_by_source = pd.read_excel('datasets/national_cancerrisk_by_tract_srcgrp.xlsx')\n",
    "\n",
    "# df_epa_cancer_by_source.columns = df_epa_cancer_by_source.columns.astype(str).str.strip().str.lower().str.replace(' ','_')\n",
    "\n",
    "# df_epa_cancer_by_source_TX = df_epa_cancer_by_source[df_epa_cancer_by_source['state'] == 'TX']\n",
    "\n",
    "# df_epa_cancer_by_source_TX.to_csv('cleaned_datasets/texas_cancerrisk_by_srcgrp.csv',index=False)"
   ]
  },
  {
   "cell_type": "markdown",
   "id": "9fc848ce-b692-4438-ba36-f7ab6495ed8b",
   "metadata": {},
   "source": [
    "#### EPA 2017 AirToxScreen: Cancer Risk by Pollutant"
   ]
  },
  {
   "cell_type": "code",
   "execution_count": 79,
   "id": "77152efd-fc3f-406b-ab4c-008061dc5dd7",
   "metadata": {},
   "outputs": [],
   "source": [
    "# df_epa_cancer_by_pollutant = pd.read_excel('datasets/national_cancerrisk_by_tract_poll.xlsx',)\n",
    "\n",
    "# df_epa_cancer_by_pollutant.columns = df_epa_cancer_by_pollutant.columns.astype(str).str.strip().str.lower().str.replace(' ','_')\n",
    "\n",
    "# df_epa_cancer_by_pollutant_TX = df_epa_cancer_by_pollutant[df_epa_cancer_by_pollutant['state'] == 'TX']\n",
    "\n",
    "# df_epa_cancer_by_pollutant_TX.to_csv('cleaned_datasets/texas_cancerrisk_by_tract_poll.csv', index=False)"
   ]
  },
  {
   "cell_type": "markdown",
   "id": "1f2aea81-ca71-41bc-b224-2e135ff8a1b4",
   "metadata": {},
   "source": [
    "#### EPA 2017 AirToxScreen: Emissions by Source"
   ]
  },
  {
   "cell_type": "code",
   "execution_count": 125,
   "id": "7fe5576c-b615-4919-9ab9-3471218d1640",
   "metadata": {},
   "outputs": [],
   "source": [
    "# df_epa_emissions_by_source = pd.read_excel('datasets/point_fac_2017_emissions.xlsx')\n",
    "\n",
    "# df_epa_emissions_by_source.columns = df_epa_emissions_by_source.columns.astype(str).str.strip().str.lower().str.replace(' ','_')\n",
    "\n",
    "# df_epa_emissions_by_source_TX = df_epa_emissions_by_source[df_epa_emissions_by_source['state'] == 'Texas']\n",
    "\n",
    "# df_epa_emissions_by_source_TX.loc[:,'state'] = 'TX'\n",
    "\n",
    "# # Drop non-numerical values for facility-id\n",
    "# df_epa_emissions_by_source_TX['facility_id'] = pd.to_numeric(df_epa_emissions_by_source_TX['facility_id'], errors='coerce')\n",
    "\n",
    "# df_epa_emissions_by_source_TX.dropna(inplace=True)\n",
    "\n",
    "# df_epa_emissions_by_source_TX.to_csv('cleaned_datasets/texas_point_fac_2017_emissions.csv', index=False)"
   ]
  },
  {
   "cell_type": "markdown",
   "id": "be977eb0-bd5c-46c7-9c53-6d1b1cf7a027",
   "metadata": {},
   "source": [
    "#### EPA 2017 AirToxScreen: All Hazard Indices by Source"
   ]
  },
  {
   "cell_type": "code",
   "execution_count": 81,
   "id": "42cd56e6-780e-4925-9e0e-4bb9ec619b22",
   "metadata": {},
   "outputs": [],
   "source": [
    "# df_epa_all_hazard_index = pd.read_excel('datasets/national_allhi_by_tract.xlsx')\n",
    "\n",
    "# df_epa_all_hazard_index.columns = df_epa_all_hazard_index.columns.astype(str).str.strip().str.lower().str.replace(' ','_')\n",
    "\n",
    "# df_epa_all_hazard_index_TX = df_epa_all_hazard_index[df_epa_all_hazard_index['state'] == 'TX']\n",
    "\n",
    "# df_epa_all_hazard_index_TX.to_csv('cleaned_datasets/texas_allhi_by_tract.csv', index=False)"
   ]
  },
  {
   "cell_type": "markdown",
   "id": "d1f1212d-6d51-4c94-bc08-ec979201a13b",
   "metadata": {},
   "source": [
    "### Combine Datasets as possible"
   ]
  },
  {
   "cell_type": "code",
   "execution_count": 170,
   "id": "10d725ea-653c-4062-ae3b-690db4cb0b11",
   "metadata": {},
   "outputs": [],
   "source": [
    "df_refineries = pd.read_csv('cleaned_datasets/texas_petroleum_refineries.csv')"
   ]
  },
  {
   "cell_type": "code",
   "execution_count": 126,
   "id": "7f71872a-2b63-4ec3-bbb4-725551e9bcaf",
   "metadata": {},
   "outputs": [],
   "source": [
    "df_emissions = pd.read_csv('cleaned_datasets/texas_point_fac_2017_emissions.csv')"
   ]
  },
  {
   "cell_type": "code",
   "execution_count": 127,
   "id": "b32742f6-0a41-4fb9-831b-f43124c925f8",
   "metadata": {},
   "outputs": [
    {
     "data": {
      "text/html": [
       "<div>\n",
       "<style scoped>\n",
       "    .dataframe tbody tr th:only-of-type {\n",
       "        vertical-align: middle;\n",
       "    }\n",
       "\n",
       "    .dataframe tbody tr th {\n",
       "        vertical-align: top;\n",
       "    }\n",
       "\n",
       "    .dataframe thead th {\n",
       "        text-align: right;\n",
       "    }\n",
       "</style>\n",
       "<table border=\"1\" class=\"dataframe\">\n",
       "  <thead>\n",
       "    <tr style=\"text-align: right;\">\n",
       "      <th></th>\n",
       "      <th>facility_id</th>\n",
       "      <th>facility_name</th>\n",
       "      <th>fips</th>\n",
       "      <th>county</th>\n",
       "      <th>state</th>\n",
       "      <th>latitude</th>\n",
       "      <th>longitude</th>\n",
       "      <th>1,1,2,2-tetrachloroethane_(year_2017_tons)</th>\n",
       "      <th>1,1,2-trichloroethane_(year_2017_tons)</th>\n",
       "      <th>1,1-dimethyl_hydrazine_(year_2017_tons)</th>\n",
       "      <th>...</th>\n",
       "      <th>m-cresol_(year_2017_tons)</th>\n",
       "      <th>m-xylene_(year_2017_tons)</th>\n",
       "      <th>o-anisidine_(year_2017_tons)</th>\n",
       "      <th>o-cresol_(year_2017_tons)</th>\n",
       "      <th>o-toluidine_(year_2017_tons)</th>\n",
       "      <th>o-xylene_(year_2017_tons)</th>\n",
       "      <th>p-cresol_(year_2017_tons)</th>\n",
       "      <th>p-dioxane_(year_2017_tons)</th>\n",
       "      <th>p-phenylenediamine_(year_2017_tons)</th>\n",
       "      <th>p-xylene_(year_2017_tons)</th>\n",
       "    </tr>\n",
       "  </thead>\n",
       "  <tbody>\n",
       "    <tr>\n",
       "      <th>0</th>\n",
       "      <td>10677711.0</td>\n",
       "      <td>TYSON FRESH MEATS</td>\n",
       "      <td>48375</td>\n",
       "      <td>Potter Co</td>\n",
       "      <td>TX</td>\n",
       "      <td>35.256694</td>\n",
       "      <td>-101.646269</td>\n",
       "      <td>0.0</td>\n",
       "      <td>0.0</td>\n",
       "      <td>0.0</td>\n",
       "      <td>...</td>\n",
       "      <td>0.0</td>\n",
       "      <td>0.0</td>\n",
       "      <td>0.0</td>\n",
       "      <td>0.0</td>\n",
       "      <td>0.0</td>\n",
       "      <td>0.0</td>\n",
       "      <td>0.0</td>\n",
       "      <td>0.0</td>\n",
       "      <td>0.0</td>\n",
       "      <td>0.0</td>\n",
       "    </tr>\n",
       "    <tr>\n",
       "      <th>1</th>\n",
       "      <td>10677811.0</td>\n",
       "      <td>GREY RANCH COMPRESSOR STATION</td>\n",
       "      <td>48371</td>\n",
       "      <td>Pecos Co</td>\n",
       "      <td>TX</td>\n",
       "      <td>30.554169</td>\n",
       "      <td>-102.443892</td>\n",
       "      <td>0.0</td>\n",
       "      <td>0.0</td>\n",
       "      <td>0.0</td>\n",
       "      <td>...</td>\n",
       "      <td>0.0</td>\n",
       "      <td>0.0</td>\n",
       "      <td>0.0</td>\n",
       "      <td>0.0</td>\n",
       "      <td>0.0</td>\n",
       "      <td>0.0</td>\n",
       "      <td>0.0</td>\n",
       "      <td>0.0</td>\n",
       "      <td>0.0</td>\n",
       "      <td>0.0</td>\n",
       "    </tr>\n",
       "  </tbody>\n",
       "</table>\n",
       "<p>2 rows × 272 columns</p>\n",
       "</div>"
      ],
      "text/plain": [
       "   facility_id                  facility_name   fips     county state  \\\n",
       "0   10677711.0              TYSON FRESH MEATS  48375  Potter Co    TX   \n",
       "1   10677811.0  GREY RANCH COMPRESSOR STATION  48371   Pecos Co    TX   \n",
       "\n",
       "    latitude   longitude  1,1,2,2-tetrachloroethane_(year_2017_tons)  \\\n",
       "0  35.256694 -101.646269                                         0.0   \n",
       "1  30.554169 -102.443892                                         0.0   \n",
       "\n",
       "   1,1,2-trichloroethane_(year_2017_tons)  \\\n",
       "0                                     0.0   \n",
       "1                                     0.0   \n",
       "\n",
       "   1,1-dimethyl_hydrazine_(year_2017_tons)  ...  m-cresol_(year_2017_tons)  \\\n",
       "0                                      0.0  ...                        0.0   \n",
       "1                                      0.0  ...                        0.0   \n",
       "\n",
       "   m-xylene_(year_2017_tons)  o-anisidine_(year_2017_tons)  \\\n",
       "0                        0.0                           0.0   \n",
       "1                        0.0                           0.0   \n",
       "\n",
       "   o-cresol_(year_2017_tons)  o-toluidine_(year_2017_tons)  \\\n",
       "0                        0.0                           0.0   \n",
       "1                        0.0                           0.0   \n",
       "\n",
       "   o-xylene_(year_2017_tons)  p-cresol_(year_2017_tons)  \\\n",
       "0                        0.0                        0.0   \n",
       "1                        0.0                        0.0   \n",
       "\n",
       "   p-dioxane_(year_2017_tons)  p-phenylenediamine_(year_2017_tons)  \\\n",
       "0                         0.0                                  0.0   \n",
       "1                         0.0                                  0.0   \n",
       "\n",
       "   p-xylene_(year_2017_tons)  \n",
       "0                        0.0  \n",
       "1                        0.0  \n",
       "\n",
       "[2 rows x 272 columns]"
      ]
     },
     "execution_count": 127,
     "metadata": {},
     "output_type": "execute_result"
    }
   ],
   "source": [
    "df_emissions.head(2)"
   ]
  },
  {
   "cell_type": "code",
   "execution_count": 175,
   "id": "49702bb8-b165-47b4-8647-558106fc91b2",
   "metadata": {},
   "outputs": [
    {
     "data": {
      "text/plain": [
       "Index(['facility_id', 'facility_name', 'fips', 'county', 'state', 'latitude',\n",
       "       'longitude', '1,1,2,2-tetrachloroethane_(year_2017_tons)',\n",
       "       '1,1,2-trichloroethane_(year_2017_tons)',\n",
       "       '1,1-dimethyl_hydrazine_(year_2017_tons)',\n",
       "       ...\n",
       "       'm-cresol_(year_2017_tons)', 'm-xylene_(year_2017_tons)',\n",
       "       'o-anisidine_(year_2017_tons)', 'o-cresol_(year_2017_tons)',\n",
       "       'o-toluidine_(year_2017_tons)', 'o-xylene_(year_2017_tons)',\n",
       "       'p-cresol_(year_2017_tons)', 'p-dioxane_(year_2017_tons)',\n",
       "       'p-phenylenediamine_(year_2017_tons)', 'p-xylene_(year_2017_tons)'],\n",
       "      dtype='object', length=272)"
      ]
     },
     "execution_count": 175,
     "metadata": {},
     "output_type": "execute_result"
    }
   ],
   "source": [
    "df_emissions.columns"
   ]
  },
  {
   "cell_type": "markdown",
   "id": "e85de573-4940-4db7-82a6-1cc2bbcc471f",
   "metadata": {},
   "source": [
    "#### Use census API to identify FIPs for each refinery"
   ]
  },
  {
   "cell_type": "code",
   "execution_count": 171,
   "id": "2350370a-de3c-4776-a9f8-0cd5c5ae3091",
   "metadata": {},
   "outputs": [],
   "source": [
    "def coord_to_tract(lat, long):\n",
    "    \"\"\" This function identifies the FIPs census tract number for a given latitude and longitude using the 2010 census.\n",
    "    \n",
    "    args:\n",
    "        lat (float): Latitude\n",
    "        long (float): Longitude\n",
    "        \n",
    "    return:\n",
    "        tract (int): census tract number, which is the first 11 digits of the census block FIPs\n",
    "    \"\"\"\n",
    "    url = 'https://geo.fcc.gov/api/census/block/find'\n",
    "    \n",
    "    params = {\n",
    "        'latitude': lat,\n",
    "        'longitude': long,\n",
    "        'censusYear': 2010,\n",
    "        'format':'json'\n",
    "    }\n",
    "    res = requests.get(url,params)\n",
    "    if res.status_code == 200:\n",
    "        fips = res.json()['Block']['FIPS']\n",
    "        return fips[0:11]\n",
    "    else:\n",
    "        print('request_failed')"
   ]
  },
  {
   "cell_type": "code",
   "execution_count": 172,
   "id": "e568b8f4-7427-4b6e-8f26-75a107212d2d",
   "metadata": {},
   "outputs": [],
   "source": [
    "refinery_tract = []\n",
    "for refinery in df_refineries.index:\n",
    "    coords = df_refineries.loc[refinery,['latitude','longitude']]\n",
    "    refinery_tract.append(coord_to_tract(coords[0],coords[1]))"
   ]
  },
  {
   "cell_type": "code",
   "execution_count": 173,
   "id": "5060f6a7-9dd5-4566-aaa8-1c5629d8d02e",
   "metadata": {},
   "outputs": [],
   "source": [
    "df_refineries['tract'] = refinery_tract"
   ]
  },
  {
   "cell_type": "code",
   "execution_count": 181,
   "id": "84890e3b-e99a-4a3e-a49d-b57c0747970a",
   "metadata": {},
   "outputs": [],
   "source": [
    "# save to replace csv\n",
    "df_refineries.to_csv('cleaned_datasets/texas_petroleum_refineries.csv',index=False)"
   ]
  },
  {
   "cell_type": "markdown",
   "id": "b7841f82-0570-4b7e-b5cb-c59067e360e8",
   "metadata": {},
   "source": [
    "#### Now do the same for the emissions data"
   ]
  },
  {
   "cell_type": "code",
   "execution_count": 176,
   "id": "4459646f-738f-4ef7-95b9-baa034d5fcb8",
   "metadata": {},
   "outputs": [],
   "source": [
    "emission_tract = []\n",
    "for source in df_emissions.index:\n",
    "    coords = df_emissions.loc[source,['latitude','longitude']]\n",
    "    emission_tract.append(coord_to_tract(coords[0],coords[1]))"
   ]
  },
  {
   "cell_type": "code",
   "execution_count": 177,
   "id": "3b3190f2-b693-4b9f-969f-a5e94261675c",
   "metadata": {},
   "outputs": [],
   "source": [
    "df_emissions['tract'] = emission_tract"
   ]
  },
  {
   "cell_type": "code",
   "execution_count": 182,
   "id": "f610427e-b09a-4878-a542-472b8aa64785",
   "metadata": {},
   "outputs": [],
   "source": [
    "# save to replace csv\n",
    "df_emissions.to_csv('cleaned_datasets/texas_point_fac_2017_emissions.csv',index=False)"
   ]
  },
  {
   "cell_type": "code",
   "execution_count": null,
   "id": "ec76d674-02ab-47ee-a27f-d0097ef5c938",
   "metadata": {},
   "outputs": [],
   "source": []
  }
 ],
 "metadata": {
  "kernelspec": {
   "display_name": "Python 3 (ipykernel)",
   "language": "python",
   "name": "python3"
  },
  "language_info": {
   "codemirror_mode": {
    "name": "ipython",
    "version": 3
   },
   "file_extension": ".py",
   "mimetype": "text/x-python",
   "name": "python",
   "nbconvert_exporter": "python",
   "pygments_lexer": "ipython3",
   "version": "3.8.8"
  }
 },
 "nbformat": 4,
 "nbformat_minor": 5
}
