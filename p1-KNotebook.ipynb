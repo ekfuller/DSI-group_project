{
 "cells": [
  {
   "cell_type": "markdown",
   "id": "810c2394-1546-4cd0-be3d-9f6095c21b01",
   "metadata": {},
   "source": [
    "by Karthik Nambiar"
   ]
  },
  {
   "cell_type": "code",
   "execution_count": 1,
   "id": "67fe6b88-a585-431b-a408-8606b7f5ff5e",
   "metadata": {},
   "outputs": [],
   "source": [
    "import numpy as np\n",
    "import pandas as pd\n",
    "import seaborn as sns\n"
   ]
  },
  {
   "cell_type": "code",
   "execution_count": null,
   "id": "29128c7f-9f5f-43f9-897e-e4e509c98f3b",
   "metadata": {},
   "outputs": [],
   "source": []
  }
 ],
 "metadata": {
  "kernelspec": {
   "display_name": "Python 3 (ipykernel)",
   "language": "python",
   "name": "python3"
  },
  "language_info": {
   "codemirror_mode": {
    "name": "ipython",
    "version": 3
   },
   "file_extension": ".py",
   "mimetype": "text/x-python",
   "name": "python",
   "nbconvert_exporter": "python",
   "pygments_lexer": "ipython3",
   "version": "3.9.7"
  }
 },
 "nbformat": 4,
 "nbformat_minor": 5
}
